{
 "cells": [
  {
   "cell_type": "markdown",
   "metadata": {},
   "source": [
    "# Identifying Fraud from Enron Email"
   ]
  },
  {
   "cell_type": "markdown",
   "metadata": {},
   "source": [
    "by Gaurav Ansal"
   ]
  },
  {
   "cell_type": "markdown",
   "metadata": {},
   "source": [
    "## Project Overview"
   ]
  },
  {
   "cell_type": "markdown",
   "metadata": {},
   "source": [
    "In 2000, Enron was one of the largest companies in the United States. By 2002, it had collapsed into bankruptcy due to widespread corporate fraud. In the resulting Federal investigation, a significant amount of typically confidential information entered into the public record, including tens of thousands of emails and detailed financial data for top executives. In this project, we will put machine learning skills to use by building a person of interest identifier based on financial and email data made public as a result of the Enron scandal. \n",
    "\n",
    "In this project, we would make an attempts to predict the likelihood of someone being a suspect of Enron fraud conspiracy by looking at given dataset. We call these suspects - Person of Interest (POI). The dataset contains financial information of all Enron executives as well as emails sent/received through their company email accounts, and their POI status.\n",
    "\n",
    "POI status means individuals who were indicted, reached a settlement or plea deal with the government, or testified in exchange for prosecution immunity.\n",
    "\n",
    "We would use machine learning to learn insider pays and emailing habits of POIs and non-POIs and see if we can find a pattern there, then use the algorithm/model built to predict the likeliness of someone being a POI or not.\n",
    "Machine learning brings together computer science and statistics to harness that predictive power."
   ]
  },
  {
   "cell_type": "markdown",
   "metadata": {},
   "source": [
    "## Data Exploration"
   ]
  },
  {
   "cell_type": "code",
   "execution_count": 378,
   "metadata": {},
   "outputs": [
    {
     "name": "stdout",
     "output_type": "stream",
     "text": [
      "Populating the interactive namespace from numpy and matplotlib\n"
     ]
    }
   ],
   "source": [
    "#!/usr/bin/python\n",
    "\n",
    "import sys\n",
    "import pickle\n",
    "import pprint\n",
    "import matplotlib.pyplot as plt\n",
    "import numpy as np\n",
    "import pandas as pd\n",
    "import operator\n",
    "from copy import deepcopy\n",
    "import matplotlib.patches as mpatches\n",
    "import matplotlib.patches\n",
    "%pylab inline\n",
    "sys.path.append(\"../tools/\")\n",
    "\n",
    "from feature_format import featureFormat, targetFeatureSplit\n",
    "from tester import dump_classifier_and_data, test_classifier"
   ]
  },
  {
   "cell_type": "markdown",
   "metadata": {},
   "source": [
    "### Loading the dictionary containing the dataset"
   ]
  },
  {
   "cell_type": "markdown",
   "metadata": {},
   "source": [
    "We have the enron dataset in the form of pickle file which is \"final_project_dataset.pkl\""
   ]
  },
  {
   "cell_type": "code",
   "execution_count": 379,
   "metadata": {
    "collapsed": true
   },
   "outputs": [],
   "source": [
    "## Loading the dictionary containing the dataset\n",
    "\n",
    "with open(\"final_project_dataset.pkl\", \"r\") as data_file:\n",
    "    data_dict = pickle.load(data_file)\n",
    "   "
   ]
  },
  {
   "cell_type": "markdown",
   "metadata": {},
   "source": [
    "###### Below is the list of features of each person -  "
   ]
  },
  {
   "cell_type": "code",
   "execution_count": 380,
   "metadata": {},
   "outputs": [
    {
     "name": "stdout",
     "output_type": "stream",
     "text": [
      "['salary',\n",
      " 'to_messages',\n",
      " 'deferral_payments',\n",
      " 'total_payments',\n",
      " 'exercised_stock_options',\n",
      " 'bonus',\n",
      " 'restricted_stock',\n",
      " 'shared_receipt_with_poi',\n",
      " 'restricted_stock_deferred',\n",
      " 'total_stock_value',\n",
      " 'expenses',\n",
      " 'loan_advances',\n",
      " 'from_messages',\n",
      " 'other',\n",
      " 'from_this_person_to_poi',\n",
      " 'poi',\n",
      " 'director_fees',\n",
      " 'deferred_income',\n",
      " 'long_term_incentive',\n",
      " 'email_address',\n",
      " 'from_poi_to_this_person']\n",
      "\n",
      "\n",
      "Number of features: 21\n"
     ]
    }
   ],
   "source": [
    "## List of features of each person\n",
    "\n",
    "pprint.pprint(data_dict[data_dict.keys()[0]].keys())\n",
    "print '\\n'\n",
    "print \"Number of features:\", len(data_dict[data_dict.keys()[0]].keys())"
   ]
  },
  {
   "cell_type": "markdown",
   "metadata": {},
   "source": [
    "Each key-value pair in the dictionary corresponds to one person. The dictionary key is the person's name, and the value is another dictionary, which contains the names of all the features and their values for that person. The features in the data fall into three major types, namely financial features, email features and POI labels.\n",
    "\n",
    "financial features: ['salary', 'deferral_payments', 'total_payments', 'loan_advances', 'bonus', 'restricted_stock_deferred', 'deferred_income', 'total_stock_value', 'expenses', 'exercised_stock_options', 'other', 'long_term_incentive', 'restricted_stock', 'director_fees'] (all units are in US dollars)\n",
    "\n",
    "email features: ['to_messages', 'email_address', 'from_poi_to_this_person', 'from_messages', 'from_this_person_to_poi', 'shared_receipt_with_poi'] (units are generally number of emails messages; notable exception is ‘email_address’, which is a text string)\n",
    "\n",
    "POI label: [‘poi’] (boolean, represented as integer)"
   ]
  },
  {
   "cell_type": "markdown",
   "metadata": {},
   "source": [
    "###### Total number of data points"
   ]
  },
  {
   "cell_type": "code",
   "execution_count": 381,
   "metadata": {},
   "outputs": [
    {
     "name": "stdout",
     "output_type": "stream",
     "text": [
      "146\n"
     ]
    }
   ],
   "source": [
    "## Total number of data points\n",
    "\n",
    "print len(data_dict)"
   ]
  },
  {
   "cell_type": "markdown",
   "metadata": {},
   "source": [
    "###### Allocation across classes (POI/non-POI)"
   ]
  },
  {
   "cell_type": "code",
   "execution_count": 382,
   "metadata": {},
   "outputs": [
    {
     "name": "stdout",
     "output_type": "stream",
     "text": [
      "Number of data points with POI class: 18\n",
      "Number of data points with non-POI class: 128\n"
     ]
    }
   ],
   "source": [
    "## Allocation across classes (POI/non-POI)\n",
    "\n",
    "i = 0\n",
    "j = 0\n",
    "for key in data_dict.keys():\n",
    "    if data_dict[key]['poi'] == True:\n",
    "        i = i + 1\n",
    "    elif data_dict[key]['poi'] == False:\n",
    "        j = j + 1\n",
    "print  \"Number of data points with POI class:\", i\n",
    "print  \"Number of data points with non-POI class:\", j\n",
    "        \n",
    "    "
   ]
  },
  {
   "cell_type": "markdown",
   "metadata": {},
   "source": [
    "There are very less POI data points as compared to non-POI data points."
   ]
  },
  {
   "cell_type": "markdown",
   "metadata": {},
   "source": [
    "###### Features with many missing values"
   ]
  },
  {
   "cell_type": "code",
   "execution_count": 383,
   "metadata": {},
   "outputs": [
    {
     "name": "stdout",
     "output_type": "stream",
     "text": [
      "Features with count of NaN's:\n",
      "\n",
      "{'bonus': 64,\n",
      " 'deferral_payments': 107,\n",
      " 'deferred_income': 97,\n",
      " 'director_fees': 129,\n",
      " 'email_address': 35,\n",
      " 'exercised_stock_options': 44,\n",
      " 'expenses': 51,\n",
      " 'from_messages': 60,\n",
      " 'from_poi_to_this_person': 60,\n",
      " 'from_this_person_to_poi': 60,\n",
      " 'loan_advances': 142,\n",
      " 'long_term_incentive': 80,\n",
      " 'other': 53,\n",
      " 'restricted_stock': 36,\n",
      " 'restricted_stock_deferred': 128,\n",
      " 'salary': 51,\n",
      " 'shared_receipt_with_poi': 60,\n",
      " 'to_messages': 60,\n",
      " 'total_payments': 21,\n",
      " 'total_stock_value': 20}\n"
     ]
    }
   ],
   "source": [
    "## Features with many missing values\n",
    "\n",
    "features_nan = {}\n",
    "for key in data_dict.keys():\n",
    "    for feature in data_dict[key].keys():\n",
    "        if data_dict[key][feature] == 'NaN':\n",
    "            if feature not in features_nan:\n",
    "                features_nan[feature] = int(1)\n",
    "            else:\n",
    "                features_nan[feature] = features_nan[feature] + 1\n",
    "print \"Features with count of NaN's:\\n\"\n",
    "pprint.pprint(features_nan)\n",
    "            \n",
    "        \n",
    "        "
   ]
  },
  {
   "cell_type": "markdown",
   "metadata": {},
   "source": [
    "From the above summary, below features have many NaN values. \n",
    "\n",
    "director_fees,\n",
    "loan_advances,\n",
    "deferral_payments,\n",
    "deferred_income,\n",
    "restricted_stock_deferred\n",
    "\n",
    "These are not actual missing values but should be replaced by value 0 as could be understood from Payments to Insiders report by FindLaw - 'enron61702insiderpay.pdf'"
   ]
  },
  {
   "cell_type": "code",
   "execution_count": 384,
   "metadata": {
    "collapsed": true
   },
   "outputs": [],
   "source": [
    "### Task 1: Select what features you'll use.\n",
    "### features_list is a list of strings, each of which is a feature name.\n",
    "### The first feature must be \"poi\".\n",
    "features_list = ['poi',\n",
    "                 'salary',\n",
    "                 'to_messages',\n",
    "                 'deferral_payments',\n",
    "                 'total_payments',\n",
    "                 'exercised_stock_options',\n",
    "                 'bonus',\n",
    "                 'restricted_stock',\n",
    "                 'shared_receipt_with_poi',\n",
    "                 'restricted_stock_deferred',\n",
    "                 'total_stock_value',\n",
    "                 'expenses',\n",
    "                 'loan_advances',\n",
    "                 'from_messages',\n",
    "                 'other',\n",
    "                 'from_this_person_to_poi',\n",
    "                 'director_fees',\n",
    "                 'deferred_income',\n",
    "                 'long_term_incentive',\n",
    "                 'from_poi_to_this_person'] "
   ]
  },
  {
   "cell_type": "markdown",
   "metadata": {},
   "source": [
    "## Dealing with Outliers in the dataset"
   ]
  },
  {
   "cell_type": "markdown",
   "metadata": {},
   "source": [
    "### Finding outliers by visualizing the data"
   ]
  },
  {
   "cell_type": "markdown",
   "metadata": {},
   "source": [
    "One way to find outliers is by visualizing the data, then use our human intuition to find suspicious looking values. Here are the histograms of all features except email_address:"
   ]
  },
  {
   "cell_type": "code",
   "execution_count": 385,
   "metadata": {
    "collapsed": true
   },
   "outputs": [],
   "source": [
    "### Task 2: Remove outliers"
   ]
  },
  {
   "cell_type": "code",
   "execution_count": 386,
   "metadata": {
    "collapsed": true
   },
   "outputs": [],
   "source": [
    "## Extracting selected features from data_dict\n",
    "\n",
    "features = features_list\n",
    "data = featureFormat(data_dict, features)"
   ]
  },
  {
   "cell_type": "markdown",
   "metadata": {},
   "source": [
    "###### Histograms of all features except email_address"
   ]
  },
  {
   "cell_type": "code",
   "execution_count": 387,
   "metadata": {},
   "outputs": [
    {
     "data": {
      "image/png": "[encoded data removed]",
      "text/plain": [
       "<matplotlib.figure.Figure at 0x11eb2da0>"
      ]
     },
     "metadata": {},
     "output_type": "display_data"
    }
   ],
   "source": [
    "## Histograms of features\n",
    "\n",
    "fig = plt.figure(figsize=(15, 30))\n",
    "\n",
    "for i,feature in enumerate(features):\n",
    "    ax = plt.subplot(7,3,i+1)\n",
    "    ax.hist(data[:,i])\n",
    "    ax.set_title(feature)\n",
    "    plt.subplots_adjust(hspace=.5)\n",
    "    "
   ]
  },
  {
   "cell_type": "markdown",
   "metadata": {},
   "source": [
    "From the above histograms and judging by the x-axis scales of some of our histograms like bonus, salary, etc., there seems to be some outliers in our dataset. But are these outliers part of POI or are they part of non-POI data points? Because if they are part of POI data points, then certainly there is a pattern within POI features."
   ]
  },
  {
   "cell_type": "markdown",
   "metadata": {},
   "source": [
    "###### Top 5 largest values of the features which might have outliers as per above histograms "
   ]
  },
  {
   "cell_type": "markdown",
   "metadata": {},
   "source": [
    "Lets have a sneak peek of top 5 largest values of the features which might have outliers as per above histograms and check i) if they have POI or non-POI status and ii) to whom they belong to."
   ]
  },
  {
   "cell_type": "code",
   "execution_count": 388,
   "metadata": {
    "collapsed": true
   },
   "outputs": [],
   "source": [
    "## Defining a function to have largest 5 values of the features which might have outliers and\n",
    "## checking if the data point has POI or non-POI status, \n",
    "## and to whom the data point belongs\n",
    "\n",
    "data_dict_test1  = data_dict\n",
    "features_test = ['salary', \n",
    "                 'deferral_payments', \n",
    "                 'exercised_stock_options', \n",
    "                 'bonus', \n",
    "                 'restricted_stock', \n",
    "                 'restricted_stock_deferred',\n",
    "                 'expenses', \n",
    "                 'loan_advances', \n",
    "                 'other', \n",
    "                 'director_fees', \n",
    "                 'long_term_incentive']\n",
    "\n",
    "#print len(data_dict_test1)\n",
    "\n",
    "def top_5_largest_values(data,features):\n",
    "    for feature in features:\n",
    "        feature_values = []\n",
    "        for key in data.keys():\n",
    "            if data[key][feature] == 'NaN' and data[key]['poi'] == True:\n",
    "                feature_values.append((key,0,'POI'))\n",
    "            elif data[key][feature] == 'NaN' and data[key]['poi'] == False:\n",
    "                feature_values.append((key,0,'non-POI'))\n",
    "            elif data[key][feature] != 'NaN' and data[key]['poi'] == True:\n",
    "                feature_values.append((key,data[key][feature], 'POI'))\n",
    "            elif data[key][feature] != 'NaN' and data[key]['poi'] == False:\n",
    "                feature_values.append((key,data[key][feature], 'non-POI'))\n",
    "        sorted_feature_values = sorted(feature_values, key = operator.itemgetter(1),reverse = True)\n",
    "        print \"Largest 5 values of\", feature\n",
    "        print sorted_feature_values[0:5]\n",
    "        print \"\\n\"\n",
    "        "
   ]
  },
  {
   "cell_type": "code",
   "execution_count": 389,
   "metadata": {},
   "outputs": [
    {
     "name": "stdout",
     "output_type": "stream",
     "text": [
      "Largest 5 values of salary\n",
      "[('TOTAL', 26704229, 'non-POI'), ('SKILLING JEFFREY K', 1111258, 'POI'), ('LAY KENNETH L', 1072321, 'POI'), ('FREVERT MARK A', 1060932, 'non-POI'), ('PICKERING MARK R', 655037, 'non-POI')]\n",
      "\n",
      "\n",
      "Largest 5 values of deferral_payments\n",
      "[('TOTAL', 32083396, 'non-POI'), ('FREVERT MARK A', 6426990, 'non-POI'), ('HORTON STANLEY C', 3131860, 'non-POI'), ('HUMPHREY GENE E', 2964506, 'non-POI'), ('ALLEN PHILLIP K', 2869717, 'non-POI')]\n",
      "\n",
      "\n",
      "Largest 5 values of exercised_stock_options\n",
      "[('TOTAL', 311764000, 'non-POI'), ('LAY KENNETH L', 34348384, 'POI'), ('HIRKO JOSEPH', 30766064, 'POI'), ('RICE KENNETH D', 19794175, 'POI'), ('SKILLING JEFFREY K', 19250000, 'POI')]\n",
      "\n",
      "\n",
      "Largest 5 values of bonus\n",
      "[('TOTAL', 97343619, 'non-POI'), ('LAVORATO JOHN J', 8000000, 'non-POI'), ('LAY KENNETH L', 7000000, 'POI'), ('SKILLING JEFFREY K', 5600000, 'POI'), ('BELDEN TIMOTHY N', 5249999, 'POI')]\n",
      "\n",
      "\n",
      "Largest 5 values of restricted_stock\n",
      "[('TOTAL', 130322299, 'non-POI'), ('LAY KENNETH L', 14761694, 'POI'), ('WHITE JR THOMAS E', 13847074, 'non-POI'), ('PAI LOU L', 8453763, 'non-POI'), ('SKILLING JEFFREY K', 6843672, 'POI')]\n",
      "\n",
      "\n",
      "Largest 5 values of restricted_stock_deferred\n",
      "[('BHATNAGAR SANJAY', 15456290, 'non-POI'), ('BELFER ROBERT', 44093, 'non-POI'), ('METTS MARK', 0, 'non-POI'), ('BAXTER JOHN C', 0, 'non-POI'), ('ELLIOTT STEVEN', 0, 'non-POI')]\n",
      "\n",
      "\n",
      "Largest 5 values of expenses\n",
      "[('TOTAL', 5235198, 'non-POI'), ('MCCLELLAN GEORGE', 228763, 'non-POI'), ('URQUHART JOHN A', 228656, 'non-POI'), ('SHANKMAN JEFFREY A', 178979, 'non-POI'), ('SHAPIRO RICHARD S', 137767, 'non-POI')]\n",
      "\n",
      "\n",
      "Largest 5 values of loan_advances\n",
      "[('TOTAL', 83925000, 'non-POI'), ('LAY KENNETH L', 81525000, 'POI'), ('FREVERT MARK A', 2000000, 'non-POI'), ('PICKERING MARK R', 400000, 'non-POI'), ('METTS MARK', 0, 'non-POI')]\n",
      "\n",
      "\n",
      "Largest 5 values of other\n",
      "[('TOTAL', 42667589, 'non-POI'), ('LAY KENNETH L', 10359729, 'POI'), ('FREVERT MARK A', 7427621, 'non-POI'), ('MARTIN AMANDA K', 2818454, 'non-POI'), ('BAXTER JOHN C', 2660303, 'non-POI')]\n",
      "\n",
      "\n",
      "Largest 5 values of director_fees\n",
      "[('TOTAL', 1398517, 'non-POI'), ('BHATNAGAR SANJAY', 137864, 'non-POI'), ('SAVAGE FRANK', 125034, 'non-POI'), ('GRAMM WENDY L', 119292, 'non-POI'), ('BLAKE JR. NORMAN P', 113784, 'non-POI')]\n",
      "\n",
      "\n",
      "Largest 5 values of long_term_incentive\n",
      "[('TOTAL', 48521928, 'non-POI'), ('MARTIN AMANDA K', 5145434, 'non-POI'), ('LAY KENNETH L', 3600000, 'POI'), ('ECHOLS JOHN B', 2234774, 'non-POI'), ('LAVORATO JOHN J', 2035380, 'non-POI')]\n",
      "\n",
      "\n"
     ]
    }
   ],
   "source": [
    "top_5_largest_values(data_dict_test1, features_test)"
   ]
  },
  {
   "cell_type": "markdown",
   "metadata": {},
   "source": [
    "From the above, we can see that largest value of most of the features(i.e. 'salary', 'deferral_payments', 'exercised_stock_options', 'bonus', 'restricted_stock', 'restricted_stock_deferred', 'expenses', 'loan_advances', 'other', 'director_fees', 'long_term_incentive') belongs to TOTAL which has a non-POI status."
   ]
  },
  {
   "cell_type": "markdown",
   "metadata": {},
   "source": [
    "Clearly, we can see that TOTAL is not any person but infact is the total of all the values of a specific feature. This must be a data entry quirk. TOTAL is clearly an outlier, and it makes sense that it caused many feature values skewed far to the right. In this case this data point needs to be removed from our dataset.  "
   ]
  },
  {
   "cell_type": "markdown",
   "metadata": {},
   "source": [
    "###### Removing TOTAL from the data_dict"
   ]
  },
  {
   "cell_type": "code",
   "execution_count": 390,
   "metadata": {},
   "outputs": [
    {
     "name": "stdout",
     "output_type": "stream",
     "text": [
      "lenth of data_dict: 146\n",
      "\n",
      "lenth of data_dict after removing TOTAL: 145\n"
     ]
    }
   ],
   "source": [
    "## Removing TOTAL from the data_dict\n",
    "\n",
    "print \"lenth of data_dict:\", len(data_dict)\n",
    "data_dict.pop('TOTAL')\n",
    "print \"\\nlenth of data_dict after removing TOTAL:\", len(data_dict)\n"
   ]
  },
  {
   "cell_type": "markdown",
   "metadata": {},
   "source": [
    "After removing TOTAL from dataset, let us rerun the function top_5_largest_values again."
   ]
  },
  {
   "cell_type": "code",
   "execution_count": 391,
   "metadata": {},
   "outputs": [
    {
     "name": "stdout",
     "output_type": "stream",
     "text": [
      "Largest 5 values of salary\n",
      "[('SKILLING JEFFREY K', 1111258, 'POI'), ('LAY KENNETH L', 1072321, 'POI'), ('FREVERT MARK A', 1060932, 'non-POI'), ('PICKERING MARK R', 655037, 'non-POI'), ('WHALLEY LAWRENCE G', 510364, 'non-POI')]\n",
      "\n",
      "\n",
      "Largest 5 values of deferral_payments\n",
      "[('FREVERT MARK A', 6426990, 'non-POI'), ('HORTON STANLEY C', 3131860, 'non-POI'), ('HUMPHREY GENE E', 2964506, 'non-POI'), ('ALLEN PHILLIP K', 2869717, 'non-POI'), ('HAEDICKE MARK E', 2157527, 'non-POI')]\n",
      "\n",
      "\n",
      "Largest 5 values of exercised_stock_options\n",
      "[('LAY KENNETH L', 34348384, 'POI'), ('HIRKO JOSEPH', 30766064, 'POI'), ('RICE KENNETH D', 19794175, 'POI'), ('SKILLING JEFFREY K', 19250000, 'POI'), ('PAI LOU L', 15364167, 'non-POI')]\n",
      "\n",
      "\n",
      "Largest 5 values of bonus\n",
      "[('LAVORATO JOHN J', 8000000, 'non-POI'), ('LAY KENNETH L', 7000000, 'POI'), ('SKILLING JEFFREY K', 5600000, 'POI'), ('BELDEN TIMOTHY N', 5249999, 'POI'), ('ALLEN PHILLIP K', 4175000, 'non-POI')]\n",
      "\n",
      "\n",
      "Largest 5 values of restricted_stock\n",
      "[('LAY KENNETH L', 14761694, 'POI'), ('WHITE JR THOMAS E', 13847074, 'non-POI'), ('PAI LOU L', 8453763, 'non-POI'), ('SKILLING JEFFREY K', 6843672, 'POI'), ('FREVERT MARK A', 4188667, 'non-POI')]\n",
      "\n",
      "\n",
      "Largest 5 values of restricted_stock_deferred\n",
      "[('BHATNAGAR SANJAY', 15456290, 'non-POI'), ('BELFER ROBERT', 44093, 'non-POI'), ('METTS MARK', 0, 'non-POI'), ('BAXTER JOHN C', 0, 'non-POI'), ('ELLIOTT STEVEN', 0, 'non-POI')]\n",
      "\n",
      "\n",
      "Largest 5 values of expenses\n",
      "[('MCCLELLAN GEORGE', 228763, 'non-POI'), ('URQUHART JOHN A', 228656, 'non-POI'), ('SHANKMAN JEFFREY A', 178979, 'non-POI'), ('SHAPIRO RICHARD S', 137767, 'non-POI'), ('MCMAHON JEFFREY', 137108, 'non-POI')]\n",
      "\n",
      "\n",
      "Largest 5 values of loan_advances\n",
      "[('LAY KENNETH L', 81525000, 'POI'), ('FREVERT MARK A', 2000000, 'non-POI'), ('PICKERING MARK R', 400000, 'non-POI'), ('METTS MARK', 0, 'non-POI'), ('BAXTER JOHN C', 0, 'non-POI')]\n",
      "\n",
      "\n",
      "Largest 5 values of other\n",
      "[('LAY KENNETH L', 10359729, 'POI'), ('FREVERT MARK A', 7427621, 'non-POI'), ('MARTIN AMANDA K', 2818454, 'non-POI'), ('BAXTER JOHN C', 2660303, 'non-POI'), ('SHERRIFF JOHN R', 1852186, 'non-POI')]\n",
      "\n",
      "\n",
      "Largest 5 values of director_fees\n",
      "[('BHATNAGAR SANJAY', 137864, 'non-POI'), ('SAVAGE FRANK', 125034, 'non-POI'), ('GRAMM WENDY L', 119292, 'non-POI'), ('BLAKE JR. NORMAN P', 113784, 'non-POI'), ('LEMAISTRE CHARLES', 112492, 'non-POI')]\n",
      "\n",
      "\n",
      "Largest 5 values of long_term_incentive\n",
      "[('MARTIN AMANDA K', 5145434, 'non-POI'), ('LAY KENNETH L', 3600000, 'POI'), ('ECHOLS JOHN B', 2234774, 'non-POI'), ('LAVORATO JOHN J', 2035380, 'non-POI'), ('SKILLING JEFFREY K', 1920000, 'POI')]\n",
      "\n",
      "\n"
     ]
    }
   ],
   "source": [
    "data_dict_test2 = data_dict\n",
    "\n",
    "top_5_largest_values(data_dict_test2, features_test)\n"
   ]
  },
  {
   "cell_type": "markdown",
   "metadata": {},
   "source": [
    "Now, the largest values of the features belongs to a person with either POI or non-POI status."
   ]
  },
  {
   "cell_type": "markdown",
   "metadata": {},
   "source": [
    "### Finding outliers by analyzing raw data"
   ]
  },
  {
   "cell_type": "markdown",
   "metadata": {},
   "source": [
    "We have to alos check for the correctness of the data in the dataset. There might be data entry quirk in any of the feature's values. For this we would have to validate and compare the data in the pickle file 'final_project_dataset.pkl' to the raw data mentioned in the Payments to Insiders report pdf file 'enron61702insiderpay.pdf'."
   ]
  },
  {
   "cell_type": "markdown",
   "metadata": {},
   "source": [
    "As we know, as per the Payments to Insiders report pdf file, the financial features of an individual has been divided into 2 groups - total_payments & total_stock_value.\n",
    "\n",
    "total_payments is sum of values of features related to Payments i.e. ('salary', 'deferral_payments', 'loan_advances', 'bonus',  'deferred_income', 'expenses', 'other', 'long_term_incentive',  'director_fees')\n",
    "\n",
    "&\n",
    "\n",
    "total_stock_value is sum of values of features related to Stocks Value i.e. ('exercised_stock_options', 'restricted_stock', 'restricted_stock_deferred')\n",
    "\n",
    "So, we can confirm if the values of the features in the data_dict is correct if the total_payments equals to sum of the values of the rest of the other features related to Payments. Similarly, would be applicable for the total_stock_value and features related to Stocks Value."
   ]
  },
  {
   "cell_type": "markdown",
   "metadata": {},
   "source": [
    "###### Validating data of the features related to Payments"
   ]
  },
  {
   "cell_type": "code",
   "execution_count": 392,
   "metadata": {
    "collapsed": true
   },
   "outputs": [],
   "source": [
    "## Validating data of the features related to Payments & Stocks Value\n",
    "\n",
    "## Defining function validate for validating data of the features related to Payments & Stocks Value\n",
    "## sum_payments is the sum of all the features related to Payments\n",
    "## sum_stocks_value is the sum of the features related to Stocks Value\n",
    "## feature type is either 'payments' or 'stocks_value'\n",
    "## features_payments_valid is the list of features related to Payments\n",
    "## features_stocks_value_valid is the list of features related to Stocks Value\n",
    "## data_dict_valid is the dictionary used to validate the data\n",
    "\n",
    "features_payments_valid  = ['salary', \n",
    "                            'deferral_payments', \n",
    "                            'loan_advances', \n",
    "                            'bonus', \n",
    "                            'deferred_income', \n",
    "                            'expenses', \n",
    "                            'other', \n",
    "                            'long_term_incentive', \n",
    "                            'director_fees']\n",
    "\n",
    "features_stocks_value_valid = ['exercised_stock_options',\n",
    "                               'restricted_stock',\n",
    "                               'restricted_stock_deferred'] \n",
    "\n",
    "def validate(data,features,feature_type):\n",
    "    for key in data.keys():\n",
    "        combined_feature = []\n",
    "        for feature in features:\n",
    "            if data[key][feature] == 'NaN':\n",
    "                combined_feature.append(float(0))\n",
    "            else:\n",
    "                combined_feature.append(float(data[key][feature]))    \n",
    "        if feature_type == 'payments':\n",
    "            data[key]['sum_payments'] = np.sum(combined_feature)\n",
    "        elif feature_type == 'stocks_value':\n",
    "            data[key]['sum_stocks_value'] = np.sum(combined_feature)\n",
    "    for key in data.keys():\n",
    "        if feature_type == 'payments':\n",
    "            if data[key]['total_payments'] == 'NaN':\n",
    "                data[key]['total_payments'] = float(0)\n",
    "            if data[key]['sum_payments'] != data[key]['total_payments']:\n",
    "                print \"\\n\", key, \"has issues with sum_payments and total_payments feature. Please check raw data and correct\"\n",
    "                print \"sum_payments:\", data[key]['sum_payments']\n",
    "                print \"total_payments:\", data[key]['total_payments']\n",
    "                print \"\\nBelow are the features of:\", key\n",
    "                for feature in features:\n",
    "                    print feature, \":\", data[key][feature]\n",
    "                print \"total_payments :\", data[key]['total_payments']\n",
    "        elif feature_type == 'stocks_value':\n",
    "            if data[key]['total_stock_value'] == 'NaN':\n",
    "                data[key]['total_stock_value'] = float(0)\n",
    "            if data[key]['sum_stocks_value'] != data[key]['total_stock_value']:\n",
    "                print \"\\n\", key, \"has issues with sum_stocks_value and total_stock_value feature. Please check raw data and correct\"\n",
    "                print \"sum_stocks_value:\", data[key]['sum_stocks_value']\n",
    "                print \"total_stock_value:\", data[key]['total_stock_value']\n",
    "                print \"\\nBelow are the features of:\", key\n",
    "                for feature in features:\n",
    "                    print feature, \":\", data[key][feature]\n",
    "                print \"total_stock_value :\", data[key]['total_stock_value'] \n",
    "    sum_list = []\n",
    "    total_list = []\n",
    "    if feature_type == 'payments':\n",
    "        for key in data.keys():\n",
    "            sum_list.append(data[key]['sum_payments'])\n",
    "            total_list.append(data[key]['total_payments'])\n",
    "        if np.sum(sum_list) == np.sum(total_list):\n",
    "            print \"\\nAll data is fine\"\n",
    "        elif np.sum(sum_list) != np.sum(total_list):\n",
    "            print \"\\nAll data is not fine\"   \n",
    "    elif feature_type == 'stocks_value':\n",
    "        for key in data.keys():\n",
    "            sum_list.append(data[key]['sum_stocks_value'])\n",
    "            total_list.append(data[key]['total_stock_value'])\n",
    "        if np.sum(sum_list) == np.sum(total_list):\n",
    "            print \"\\nAll data is fine\"\n",
    "        elif np.sum(sum_list) != np.sum(total_list):\n",
    "            print \"\\nAll data is not fine\"     \n",
    "    \n",
    "    "
   ]
  },
  {
   "cell_type": "code",
   "execution_count": 393,
   "metadata": {},
   "outputs": [
    {
     "name": "stdout",
     "output_type": "stream",
     "text": [
      "\n",
      "BELFER ROBERT has issues with sum_payments and total_payments feature. Please check raw data and correct\n",
      "sum_payments: -99215.0\n",
      "total_payments: 102500\n",
      "\n",
      "Below are the features of: BELFER ROBERT\n",
      "salary : NaN\n",
      "deferral_payments : -102500\n",
      "loan_advances : NaN\n",
      "bonus : NaN\n",
      "deferred_income : NaN\n",
      "expenses : NaN\n",
      "other : NaN\n",
      "long_term_incentive : NaN\n",
      "director_fees : 3285\n",
      "total_payments : 102500\n",
      "\n",
      "BHATNAGAR SANJAY has issues with sum_payments and total_payments feature. Please check raw data and correct\n",
      "sum_payments: 275728.0\n",
      "total_payments: 15456290\n",
      "\n",
      "Below are the features of: BHATNAGAR SANJAY\n",
      "salary : NaN\n",
      "deferral_payments : NaN\n",
      "loan_advances : NaN\n",
      "bonus : NaN\n",
      "deferred_income : NaN\n",
      "expenses : NaN\n",
      "other : 137864\n",
      "long_term_incentive : NaN\n",
      "director_fees : 137864\n",
      "total_payments : 15456290\n",
      "\n",
      "All data is not fine\n"
     ]
    }
   ],
   "source": [
    "## Validating data of the features related to Payments\n",
    "## Using the function validate for validation \n",
    "\n",
    "data_dict_valid1 = deepcopy(data_dict)\n",
    "validate(data_dict_valid1,features_payments_valid,'payments')"
   ]
  },
  {
   "cell_type": "markdown",
   "metadata": {
    "collapsed": true
   },
   "source": [
    "From the above output, we see that raw data and dictionary data are different for BELFER ROBERT and BHATNAGAR SANJAY for payment features. These were potentially an outliers."
   ]
  },
  {
   "cell_type": "markdown",
   "metadata": {},
   "source": [
    "###### Validating data of the features related to Stocks Value"
   ]
  },
  {
   "cell_type": "code",
   "execution_count": 394,
   "metadata": {},
   "outputs": [
    {
     "name": "stdout",
     "output_type": "stream",
     "text": [
      "\n",
      "BELFER ROBERT has issues with sum_stocks_value and total_stock_value feature. Please check raw data and correct\n",
      "sum_stocks_value: 47378.0\n",
      "total_stock_value: -44093\n",
      "\n",
      "Below are the features of: BELFER ROBERT\n",
      "exercised_stock_options : 3285\n",
      "restricted_stock : NaN\n",
      "restricted_stock_deferred : 44093\n",
      "total_stock_value : -44093\n",
      "\n",
      "BHATNAGAR SANJAY has issues with sum_stocks_value and total_stock_value feature. Please check raw data and correct\n",
      "sum_stocks_value: 15456290.0\n",
      "total_stock_value: 0.0\n",
      "\n",
      "Below are the features of: BHATNAGAR SANJAY\n",
      "exercised_stock_options : 2604490\n",
      "restricted_stock : -2604490\n",
      "restricted_stock_deferred : 15456290\n",
      "total_stock_value : 0.0\n",
      "\n",
      "All data is not fine\n"
     ]
    }
   ],
   "source": [
    "## Validating data of the features related to Stocks Value\n",
    "## Using the function validate for validation \n",
    "\n",
    "validate(data_dict_valid1,features_stocks_value_valid,'stocks_value')\n"
   ]
  },
  {
   "cell_type": "markdown",
   "metadata": {},
   "source": [
    "From the above output, we see that raw data and dictionary data are also different for BELFER ROBERT and BHATNAGAR SANJAY for stocks_value features. These were potentially an outliers."
   ]
  },
  {
   "cell_type": "markdown",
   "metadata": {},
   "source": [
    "###### Correcting data of the features related to Payments & Stocks Value manually"
   ]
  },
  {
   "cell_type": "code",
   "execution_count": 395,
   "metadata": {
    "collapsed": true
   },
   "outputs": [],
   "source": [
    "## Correcting data of the features related to Payments & Stocks Value manually \n",
    "## for both the persons by using raw data from pdf file\n",
    "\n",
    "data_dict['BELFER ROBERT']['salary'] = 'NaN'\n",
    "data_dict['BELFER ROBERT']['bonus'] = 'NaN'\n",
    "data_dict['BELFER ROBERT']['long_term_incentive'] = 'NaN' \n",
    "data_dict['BELFER ROBERT']['deferred_income'] = -102500\n",
    "data_dict['BELFER ROBERT']['deferral_payments'] = 'NaN'\n",
    "data_dict['BELFER ROBERT']['loan_advances'] = 'NaN'\n",
    "data_dict['BELFER ROBERT']['other'] = 'NaN'\n",
    "data_dict['BELFER ROBERT']['expenses']  = 3285\n",
    "data_dict['BELFER ROBERT']['director_fees'] = 102500\n",
    "data_dict['BELFER ROBERT']['total_payments'] = 3285\n",
    "data_dict['BELFER ROBERT']['exercised_stock_options'] = 'NaN'\n",
    "data_dict['BELFER ROBERT']['restricted_stock'] = 44093\n",
    "data_dict['BELFER ROBERT']['restricted_stock_deferred'] = -44093 \n",
    "data_dict['BELFER ROBERT']['total_stock_value'] = 'NaN'\n",
    "\n",
    "\n",
    "data_dict['BHATNAGAR SANJAY']['salary'] = 'NaN'\n",
    "data_dict['BHATNAGAR SANJAY']['bonus'] = 'NaN'\n",
    "data_dict['BHATNAGAR SANJAY']['long_term_incentive'] = 'NaN'\n",
    "data_dict['BHATNAGAR SANJAY']['deferred_income'] = 'NaN'\n",
    "data_dict['BHATNAGAR SANJAY']['deferral_payments'] = 'NaN'\n",
    "data_dict['BHATNAGAR SANJAY']['loan_advances'] ='NaN'\n",
    "data_dict['BHATNAGAR SANJAY']['other'] = 'NaN'\n",
    "data_dict['BHATNAGAR SANJAY']['expenses'] = 137864\n",
    "data_dict['BHATNAGAR SANJAY']['director_fees'] = 'NaN'\n",
    "data_dict['BHATNAGAR SANJAY']['total_payments'] = 137864\n",
    "data_dict['BHATNAGAR SANJAY']['exercised_stock_options'] = 15456290 \n",
    "data_dict['BHATNAGAR SANJAY']['restricted_stock'] = 2604490\n",
    "data_dict['BHATNAGAR SANJAY']['restricted_stock_deferred'] = -2604490\n",
    "data_dict['BHATNAGAR SANJAY']['total_stock_value'] = 15456290\n",
    "\n",
    "\n",
    "data_dict_valid2 = deepcopy(data_dict)\n"
   ]
  },
  {
   "cell_type": "markdown",
   "metadata": {},
   "source": [
    "After manually correcting the entries for BELFER ROBERT and BHATNAGAR SANJAY, lets validate the data again by using validate function."
   ]
  },
  {
   "cell_type": "code",
   "execution_count": 396,
   "metadata": {
    "scrolled": false
   },
   "outputs": [
    {
     "name": "stdout",
     "output_type": "stream",
     "text": [
      "\n",
      "All data is fine\n"
     ]
    }
   ],
   "source": [
    "## Performing validation for features related to Payments\n",
    "\n",
    "validate(data_dict_valid2,features_payments_valid,'payments')"
   ]
  },
  {
   "cell_type": "code",
   "execution_count": 397,
   "metadata": {},
   "outputs": [
    {
     "name": "stdout",
     "output_type": "stream",
     "text": [
      "\n",
      "All data is fine\n"
     ]
    }
   ],
   "source": [
    "## Performing validation for features related to Stocks Value\n",
    "\n",
    "validate(data_dict_valid2,features_stocks_value_valid,'stocks_value')"
   ]
  },
  {
   "cell_type": "markdown",
   "metadata": {},
   "source": [
    "Since, no bad entries were generated upon reruning the validate function for features related to Payments & Stocks Value after manually correcting the entries for both the persons, we could say that now the raw data and data_dict have the same data."
   ]
  },
  {
   "cell_type": "markdown",
   "metadata": {},
   "source": [
    "Let us now plot the histograms of all the features again with the corrected data and removing the outliers"
   ]
  },
  {
   "cell_type": "markdown",
   "metadata": {},
   "source": [
    "###### Histograms with corrected data"
   ]
  },
  {
   "cell_type": "code",
   "execution_count": 398,
   "metadata": {
    "collapsed": true
   },
   "outputs": [],
   "source": [
    "## Extracting selected features from corrected data_dict\n",
    "\n",
    "corrected_data = featureFormat(data_dict, features)"
   ]
  },
  {
   "cell_type": "code",
   "execution_count": 399,
   "metadata": {},
   "outputs": [
    {
     "data": {
      "image/png": "[encoded data removed]",
      "text/plain": [
       "<matplotlib.figure.Figure at 0xee93278>"
      ]
     },
     "metadata": {},
     "output_type": "display_data"
    }
   ],
   "source": [
    "## Histograms of features\n",
    "\n",
    "fig = plt.figure(figsize=(15, 30))\n",
    "\n",
    "for i,feature in enumerate(features):\n",
    "    ax = plt.subplot(7,3,i+1)\n",
    "    ax.hist(corrected_data[:,i])\n",
    "    ax.set_title(feature)\n",
    "    plt.subplots_adjust(hspace=.5)"
   ]
  },
  {
   "cell_type": "markdown",
   "metadata": {
    "collapsed": true
   },
   "source": [
    "Histograms with corrected data and with outliers removed are different than the Histograms created with outliers and incorrect entries. Now we are not seeing those extremely separated values in most of the features."
   ]
  },
  {
   "cell_type": "markdown",
   "metadata": {
    "collapsed": true
   },
   "source": [
    "###### Replacing 'NaN' with 0 in the features included in the feature_list"
   ]
  },
  {
   "cell_type": "markdown",
   "metadata": {},
   "source": [
    "From the above analysis and data in the pdf file - 'enron61702insiderpay.pdf', it can be concluded that the NaN values of the features in the feature list can be replaced by 0."
   ]
  },
  {
   "cell_type": "code",
   "execution_count": 400,
   "metadata": {
    "collapsed": true
   },
   "outputs": [],
   "source": [
    "## Replacing 'NaN' with 0 in the features included in the feature_list\n",
    "\n",
    "for key in data_dict.keys():\n",
    "    for feature in features_list:\n",
    "        if data_dict[key][feature] == 'NaN':\n",
    "            data_dict[key][feature] = float(0)\n",
    "            \n",
    "            "
   ]
  },
  {
   "cell_type": "markdown",
   "metadata": {},
   "source": [
    "Verifying the missing values count again"
   ]
  },
  {
   "cell_type": "code",
   "execution_count": 401,
   "metadata": {},
   "outputs": [
    {
     "name": "stdout",
     "output_type": "stream",
     "text": [
      "Features with count of NaN's:\n",
      "\n",
      "{'email_address': 34}\n"
     ]
    }
   ],
   "source": [
    "## Features with missing values\n",
    "\n",
    "features_nan = {}\n",
    "for key in data_dict.keys():\n",
    "    for feature in data_dict[key].keys():\n",
    "        if data_dict[key][feature] == 'NaN':\n",
    "            if feature not in features_nan:\n",
    "                features_nan[feature] = int(1)\n",
    "            else:\n",
    "                features_nan[feature] = features_nan[feature] + 1\n",
    "print \"Features with count of NaN's:\\n\"\n",
    "pprint.pprint(features_nan)"
   ]
  },
  {
   "cell_type": "markdown",
   "metadata": {},
   "source": [
    "So, the NaN has been replaced by 0 in features in the features_list. Since, email_ddress feature has text value and would not be used in our algoriths later on, we  have not replaced its value."
   ]
  },
  {
   "cell_type": "markdown",
   "metadata": {},
   "source": [
    "## Feature Selection/Engineering &  Algorithms"
   ]
  },
  {
   "cell_type": "markdown",
   "metadata": {},
   "source": [
    "### Create new feature(s)"
   ]
  },
  {
   "cell_type": "markdown",
   "metadata": {},
   "source": [
    "For creating a new feature, one must have an intuation on what features might contain pattern which one can exploit using machine learning. One intutation which we have on this dataset is that the POI's must have strong email connection between each other i.e. POI's send email to other POI's at a rate higher than for the general population."
   ]
  },
  {
   "cell_type": "markdown",
   "metadata": {},
   "source": [
    "we already have email features like 'to_messages', 'from_poi_to_this_person', 'from_messages', 'from_this_person_to_poi', 'shared_receipt_with_poi', 'email_address'. \n",
    "Let us add 2 new features - 'fraction_from_poi' & 'fraction_to_poi'.\n",
    "\n",
    "'fraction_from_poi' is the fraction of messages to this person that come from POI's to all the messages to this person\n",
    "\n",
    "&\n",
    "\n",
    "'fraction_to_poi' is the fraction of messages from this person that are sent to POI's to all the messages from this person.\n"
   ]
  },
  {
   "cell_type": "code",
   "execution_count": 402,
   "metadata": {
    "collapsed": true
   },
   "outputs": [],
   "source": [
    "## Define computeFraction function which computes fraction\n",
    "## given a number messages to/from POI (numerator) \n",
    "## and number of all messages to/from a person (denominator),\n",
    "## return the fraction of messages to/from that person\n",
    "## that are from/to a POI\n",
    "\n",
    "def computeFraction( poi_messages, all_messages ):\n",
    "    fraction = 0\n",
    "    if poi_messages == 0 or  all_messages == 0:\n",
    "        fraction = 0\n",
    "    else:\n",
    "        fraction = float(poi_messages) / float(all_messages)\n",
    "    return fraction\n"
   ]
  },
  {
   "cell_type": "markdown",
   "metadata": {},
   "source": [
    "###### Creating features \"fraction_from_poi\" & \"fraction_to_poi\""
   ]
  },
  {
   "cell_type": "code",
   "execution_count": 403,
   "metadata": {
    "collapsed": true
   },
   "outputs": [],
   "source": [
    "## Creating features \"fraction_from_poi\" & \"fraction_to_poi\"\n",
    "\n",
    "for key in data_dict.keys():\n",
    "    from_poi_to_this_person = data_dict[key][\"from_poi_to_this_person\"]\n",
    "    to_messages = data_dict[key][\"to_messages\"]\n",
    "    fraction_from_poi = computeFraction( from_poi_to_this_person, to_messages)\n",
    "    data_dict[key][\"fraction_from_poi\"] = fraction_from_poi\n",
    "    from_this_person_to_poi = data_dict[key][\"from_this_person_to_poi\"]\n",
    "    from_messages = data_dict[key][\"from_messages\"]\n",
    "    fraction_to_poi = computeFraction( from_this_person_to_poi, from_messages)\n",
    "    data_dict[key][\"fraction_to_poi\"] = fraction_to_poi"
   ]
  },
  {
   "cell_type": "markdown",
   "metadata": {},
   "source": [
    "Now, we have created two new features \"fraction_from_poi\" & \"fraction_to_poi\" in the dataset."
   ]
  },
  {
   "cell_type": "markdown",
   "metadata": {},
   "source": [
    "###### Scatter plot of  new features"
   ]
  },
  {
   "cell_type": "markdown",
   "metadata": {},
   "source": [
    "Now, let us visualize the scatter plot of \"fraction_from_poi\" & \"fraction_to_poi\""
   ]
  },
  {
   "cell_type": "code",
   "execution_count": 404,
   "metadata": {},
   "outputs": [
    {
     "data": {
      "text/plain": [
       "<matplotlib.legend.Legend at 0x108a8198>"
      ]
     },
     "execution_count": 404,
     "metadata": {},
     "output_type": "execute_result"
    },
    {
     "data": {
      "image/png": "[encoded data removed]",
      "text/plain": [
       "<matplotlib.figure.Figure at 0x111716a0>"
      ]
     },
     "metadata": {},
     "output_type": "display_data"
    }
   ],
   "source": [
    "## scatter plot of \"fraction_from_poi\" & \"fraction_to_poi\"\n",
    "\n",
    "plt.figure(figsize = (8,6))\n",
    "\n",
    "for key in data_dict.keys():\n",
    "    if data_dict[key]['poi'] == True:\n",
    "        color = 'r'\n",
    "        x = data_dict[key]['fraction_from_poi']\n",
    "        y = data_dict[key]['fraction_to_poi']\n",
    "        plt.scatter(x, y, marker = '*', c = color)\n",
    "    elif data_dict[key]['poi'] == False:\n",
    "        color = 'b'\n",
    "        x = data_dict[key]['fraction_from_poi']\n",
    "        y = data_dict[key]['fraction_to_poi']\n",
    "        plt.scatter(x, y, marker = '*', c = color)\n",
    "        \n",
    "plt.xlabel('fraction_from_poi', fontsize = 12)\n",
    "plt.ylabel('fraction_to_poi', fontsize = 12)\n",
    "plt.title('Scatter plot', fontsize = 16)\n",
    "\n",
    "\n",
    "\n",
    "red_patch = mpatches.Patch(color='red', label='POI')\n",
    "blue_patch = mpatches.Patch(color='blue', label='non-POI')\n",
    "\n",
    "plt.legend(handles=[red_patch, blue_patch])\n",
    "\n",
    "\n",
    "\n",
    "\n"
   ]
  },
  {
   "cell_type": "markdown",
   "metadata": {},
   "source": [
    "From the above scatter plot, we can see that individuals having non-POI status has feature named 'fraction_to_poi' values less than 0.2 or less than 20%. Similary, feature 'fraction_from_poi' for non-POI's has values less than 0.02 approx. or less than 2%. This is definitely a strong pattern which would be helpful in our algorithms later on."
   ]
  },
  {
   "cell_type": "markdown",
   "metadata": {},
   "source": [
    "Let us add these 2 new features to our features_list."
   ]
  },
  {
   "cell_type": "code",
   "execution_count": 405,
   "metadata": {
    "collapsed": true
   },
   "outputs": [],
   "source": [
    "if 'fraction_from_poi' not in features_list:\n",
    "    features_list.append('fraction_from_poi')\n",
    "if  'fraction_to_poi' not in features_list:\n",
    "    features_list.append('fraction_to_poi')"
   ]
  },
  {
   "cell_type": "code",
   "execution_count": 406,
   "metadata": {},
   "outputs": [
    {
     "name": "stdout",
     "output_type": "stream",
     "text": [
      "['poi',\n",
      " 'salary',\n",
      " 'to_messages',\n",
      " 'deferral_payments',\n",
      " 'total_payments',\n",
      " 'exercised_stock_options',\n",
      " 'bonus',\n",
      " 'restricted_stock',\n",
      " 'shared_receipt_with_poi',\n",
      " 'restricted_stock_deferred',\n",
      " 'total_stock_value',\n",
      " 'expenses',\n",
      " 'loan_advances',\n",
      " 'from_messages',\n",
      " 'other',\n",
      " 'from_this_person_to_poi',\n",
      " 'director_fees',\n",
      " 'deferred_income',\n",
      " 'long_term_incentive',\n",
      " 'from_poi_to_this_person',\n",
      " 'fraction_from_poi',\n",
      " 'fraction_to_poi']\n"
     ]
    }
   ],
   "source": [
    "pprint.pprint(features_list)"
   ]
  },
  {
   "cell_type": "markdown",
   "metadata": {},
   "source": [
    "### Initial workout with Algorithms"
   ]
  },
  {
   "cell_type": "markdown",
   "metadata": {},
   "source": [
    "Before working on the feature selection, feature scaling, let us use few algorithm to check how our data respond to the algorithms. "
   ]
  },
  {
   "cell_type": "markdown",
   "metadata": {},
   "source": [
    "###### GaussianNB"
   ]
  },
  {
   "cell_type": "code",
   "execution_count": 407,
   "metadata": {},
   "outputs": [
    {
     "name": "stdout",
     "output_type": "stream",
     "text": [
      "GaussianNB(priors=None)\n",
      "\tAccuracy: 0.76980\tPrecision: 0.25448\tRecall: 0.37650\tF1: 0.30369\tF2: 0.34355\n",
      "\tTotal predictions: 15000\tTrue positives:  753\tFalse positives: 2206\tFalse negatives: 1247\tTrue negatives: 10794\n",
      "\n"
     ]
    }
   ],
   "source": [
    "## Testing our dataset and features list with GaussianNB classifer\n",
    "\n",
    "dataset = data_dict\n",
    "\n",
    "## Creating and testing GaussianNB classifier\n",
    "from sklearn.naive_bayes import GaussianNB\n",
    "clf = GaussianNB()\n",
    "\n",
    "test_classifier(clf, dataset, features_list)"
   ]
  },
  {
   "cell_type": "markdown",
   "metadata": {},
   "source": [
    "###### SVM"
   ]
  },
  {
   "cell_type": "code",
   "execution_count": 408,
   "metadata": {},
   "outputs": [
    {
     "name": "stdout",
     "output_type": "stream",
     "text": [
      "Got a divide by zero when trying out: SVC(C=1.0, cache_size=200, class_weight=None, coef0=0.0,\n",
      "  decision_function_shape=None, degree=3, gamma='auto', kernel='rbf',\n",
      "  max_iter=-1, probability=False, random_state=None, shrinking=True,\n",
      "  tol=0.001, verbose=False)\n",
      "Precision or recall may be undefined due to a lack of true positive predicitons.\n"
     ]
    }
   ],
   "source": [
    "## Testing our dataset and features list with SVM classifer\n",
    "## Creating and testing SVM classifier\n",
    "\n",
    "from sklearn.svm import SVC\n",
    "clf = SVC()\n",
    "\n",
    "test_classifier(clf, dataset, features_list)"
   ]
  },
  {
   "cell_type": "markdown",
   "metadata": {},
   "source": [
    "###### DecisionTree"
   ]
  },
  {
   "cell_type": "code",
   "execution_count": 409,
   "metadata": {},
   "outputs": [
    {
     "name": "stdout",
     "output_type": "stream",
     "text": [
      "DecisionTreeClassifier(class_weight=None, criterion='gini', max_depth=None,\n",
      "            max_features=None, max_leaf_nodes=None,\n",
      "            min_impurity_split=1e-07, min_samples_leaf=1,\n",
      "            min_samples_split=2, min_weight_fraction_leaf=0.0,\n",
      "            presort=False, random_state=42, splitter='best')\n",
      "\tAccuracy: 0.81827\tPrecision: 0.31094\tRecall: 0.29850\tF1: 0.30459\tF2: 0.30091\n",
      "\tTotal predictions: 15000\tTrue positives:  597\tFalse positives: 1323\tFalse negatives: 1403\tTrue negatives: 11677\n",
      "\n"
     ]
    }
   ],
   "source": [
    "## Testing our dataset and features list with DecisionTree classifer\n",
    "## Creating and testing DecisionTree classifier\n",
    "\n",
    "from sklearn.tree import DecisionTreeClassifier\n",
    "clf = DecisionTreeClassifier(random_state = 42)\n",
    "\n",
    "test_classifier(clf, dataset, features_list)"
   ]
  },
  {
   "cell_type": "markdown",
   "metadata": {},
   "source": [
    "Above are the various output values for the different algorithms when we have not selected and rescaled the features of the dataset. From the above 3 algorithms(GaussianNB, SVM & Decision Tree), SVM doesn't seem to work. So, we would proceed with Gaussian NB and DecisionTree alogorithms.  "
   ]
  },
  {
   "cell_type": "markdown",
   "metadata": {},
   "source": [
    "### Evaluation Metrics"
   ]
  },
  {
   "cell_type": "markdown",
   "metadata": {},
   "source": [
    "We can't improve what we can't measure. Similarly in creating a prediction model we need to use a kind of measurement to see if the model is good enough.\n",
    "The two most important evaluation metrics are \"Precision and Recall\" and \"F1\". Precision and recall usually stick together as Precision is usually a trade-off against Recall.\n",
    "We do the evaluation by cross-validating our prediction model with given testing dataset using a stratified shuffle split as coded in the tester.py.\n",
    "Better F1 value means better model. In this project, we are tuning our classifier to achieve better than .3 precision and recall using our testing script in tester.py."
   ]
  },
  {
   "cell_type": "markdown",
   "metadata": {},
   "source": [
    "ACCURACY is proportion of all predictions that are correct. Accuracy is a measurment of how good a model is.\n",
    "\n",
    "\n",
    "PRECISION is proportion of all positive predictions that are correct. Precision is a measure of how many positive predictions were actual positive observations. Precision is usually a trade-off against Recall. Precision is the ability of the classifier to not label as positive sample that is negative.\n",
    "\n",
    "In context of our project \" Precision would be the ratio of True predicted POI's and Total predicted POI's(which would also include False predicted POI)\n",
    "\n",
    "RECALL is proportion of all real positive observations that are correct. Recall is the ability of the classifier to find all positive samples.\n",
    "\n",
    "In context of our project \" Recall would be the ratio of True predicted POI's and Sum of (True Predicted POI's and False Predicted non-POI's)\n",
    "\n",
    "\n",
    "F1 Score is the harmonic mean of precision and recall. F1 score is an 'average' of both precision and recall. We use the harmonic mean because it is the appropriate way to average ratios. \n",
    "\n",
    "\n",
    "Essentially speaking, if a model has a precision score of x %, it tells us if this model predicts 100 POI's, there would be x people whom are actually POI's and the rest (100-x) are innocent. Ands if a model has recall score of y %, that means this model finds y% of all real POI's in prediction."
   ]
  },
  {
   "cell_type": "markdown",
   "metadata": {},
   "source": [
    "### Validation"
   ]
  },
  {
   "cell_type": "markdown",
   "metadata": {},
   "source": [
    "The validation is a process of evaluating the peformance of the predictive model.\n",
    "\n",
    "There are a number of strategies to validate a predictive model. One of them is to split the available data into training and testing data. Testing data gives the assessment of the performance of the classifier on an independent dataset and also help prevent overfitting of the classifier which mostly occurs when we use a small dataset with large number of features. In this scenario, whenever new testing data is thrown to the classifier to classify, classifier doesn't know to classify and as a result incorrect target are labelled. It doesn't generalizes well with the testing data. There is high error on testing data than on traininig data. It is a high variance type regime of Bias-Variance dilemna. A single split into a training & test set would not give a better estimate of error accuracy.\n",
    "\n",
    "\n",
    "Using only the few features in the clasifier puts in the classic high biased type regime of the Bias-Variance dilemna where there are lot of features to describe the data and to find pattern but we only use few features to train the classifier. Therefore, we pay little attention to the data and predictive model is oversimplified and there is high error on training data.\n",
    "\n",
    "\n",
    "Another approach is to perform a cross validation which is a process of splitting the data on k beans of equal size; run a learning experiment; repeat this operation k number of times and take the average test result from those k experiments. In this approach, we use all of the data for training and all of the data for testing.\n",
    "\n",
    "And because of the small size of our dataset, with only 18 POI's, we would use stratified shuffle split cross validation where we randomly split the data into multiple trials while keeping the fraction of POIs in each trials relatively constant. Due to the nature of the dataset, accuracy is not a good measurement in this case because if we  predict all samples as non-POI's, the accuracy score will still be good and will yield that the model is a success. But we want that all POI's should be flagged as POI's. So Precision and Recall are the good measurement in this case."
   ]
  },
  {
   "cell_type": "markdown",
   "metadata": {},
   "source": [
    "### Parameter Tuning"
   ]
  },
  {
   "cell_type": "markdown",
   "metadata": {},
   "source": [
    "Parameters tuning refers to the adjustment of the algorithm when training, in order to improve the fit on the testing data. Parameter can influence the outcome of the learning process, the more tuned the parameters, the more biased the algorithm will be to the training data. The strategy can be effective but it can also lead to more fragile models & overfit the training data but don't perform well in practice\n",
    "\n",
    "Bias-variance tradeoff is one of the key dilema in machine learning. High bias algorithms has no capacity to learn, high variance algorithms react poorly in case they didn't saw such data before. Predictive model should be tuned to achieve compromise. The process of changing the parameteres of algorithms is algorithm tuning and it lets us find the golden mean and best result. If we don't tune the algorithm well, we don't get the best result that we could.\n",
    "Algorithm might be tuned manually by iteratively changing the parameteres and tracking the results. Or GridSearchCV might be used which makes this automatically."
   ]
  },
  {
   "cell_type": "markdown",
   "metadata": {
    "collapsed": true
   },
   "source": [
    "### Working out with GaussianNB"
   ]
  },
  {
   "cell_type": "code",
   "execution_count": 410,
   "metadata": {},
   "outputs": [
    {
     "name": "stdout",
     "output_type": "stream",
     "text": [
      "GaussianNB(priors=None)\n",
      "\tAccuracy: 0.76980\tPrecision: 0.25448\tRecall: 0.37650\tF1: 0.30369\tF2: 0.34355\n",
      "\tTotal predictions: 15000\tTrue positives:  753\tFalse positives: 2206\tFalse negatives: 1247\tTrue negatives: 10794\n",
      "\n"
     ]
    }
   ],
   "source": [
    "## Tetsing the GaussianNB classifier\n",
    "\n",
    "clf = GaussianNB()\n",
    "test_classifier(clf, dataset, features_list)"
   ]
  },
  {
   "cell_type": "markdown",
   "metadata": {},
   "source": [
    "###### Rescaling the features"
   ]
  },
  {
   "cell_type": "markdown",
   "metadata": {},
   "source": [
    "We have finanical and email features in our features_list and these two categories of features have different ranges of values. Financial features like 'salary', 'bonus' and 'exercised_stock_options' etc. have values in (thousands or hundreds of thousands) whereas email features like  'to_messages', 'from_this_person_to_poi' etc. have values in (hundreds or thousands), therefore these two category are inbalanced and finanical features would end up dominating the email features. In order, that these two category weigh equals in the predictive model, we have to rescale the featues so that these category features are balanced out. These rescaled features would point out to the same earlier values but now in different same scale. This is to ensure, for example, a relatively high number of messages compared to other messages are not valued less than relatively low amount of salary compared to all salaries."
   ]
  },
  {
   "cell_type": "code",
   "execution_count": 411,
   "metadata": {},
   "outputs": [
    {
     "name": "stdout",
     "output_type": "stream",
     "text": [
      "Pipeline(steps=[('scaler', MinMaxScaler(copy=True, feature_range=(0, 1))), ('clf', GaussianNB(priors=None))])\n",
      "\tAccuracy: 0.47660\tPrecision: 0.17834\tRecall: 0.81100\tF1: 0.29238\tF2: 0.47441\n",
      "\tTotal predictions: 15000\tTrue positives: 1622\tFalse positives: 7473\tFalse negatives:  378\tTrue negatives: 5527\n",
      "\n"
     ]
    }
   ],
   "source": [
    "###### Rescaling the features and using Pipeline\n",
    "\n",
    "from sklearn.preprocessing import MinMaxScaler\n",
    "from sklearn.pipeline import Pipeline\n",
    "\n",
    "estimators = [('scaler', MinMaxScaler()), ('clf', GaussianNB())]\n",
    "pipe_clf = Pipeline(estimators)\n",
    "\n",
    "## Testing the GaussianNB classifier with the rescaled features\n",
    "\n",
    "test_classifier(pipe_clf, dataset, features_list)"
   ]
  },
  {
   "cell_type": "markdown",
   "metadata": {},
   "source": [
    "Rescaling of the features with GaussianNB didn't produced better results as when using the non-scaled features. The accuracy has dropped from 0.76980 to 0.47660. Let us just use, the original features for GaussianNB."
   ]
  },
  {
   "cell_type": "markdown",
   "metadata": {},
   "source": [
    "###### Selecting top 10 features"
   ]
  },
  {
   "cell_type": "code",
   "execution_count": 412,
   "metadata": {},
   "outputs": [
    {
     "name": "stdout",
     "output_type": "stream",
     "text": [
      " Top 10 best features are:\n",
      "\n",
      "[('bonus', 23.023193034632005),\n",
      " ('salary', 20.839153801164169),\n",
      " ('fraction_to_poi', 18.680300615445152),\n",
      " ('deferred_income', 12.629759158698027),\n",
      " ('total_stock_value', 12.058903589560817),\n",
      " ('shared_receipt_with_poi', 11.719093382602846),\n",
      " ('exercised_stock_options', 11.196536151953884),\n",
      " ('long_term_incentive', 10.753512449862587),\n",
      " ('total_payments', 9.6684821961228113),\n",
      " ('restricted_stock', 7.3760180943963727)]\n"
     ]
    }
   ],
   "source": [
    "## Selecting Top 10 features \n",
    "\n",
    "from sklearn.feature_selection import SelectKBest\n",
    "from sklearn.feature_selection import f_classif\n",
    "from sklearn.cross_validation import StratifiedShuffleSplit\n",
    "\n",
    "data = featureFormat(dataset, features_list, sort_keys = True)\n",
    "labels, features = targetFeatureSplit(data)\n",
    "\n",
    "cv = StratifiedShuffleSplit(labels, random_state = 42)\n",
    "\n",
    "for train_idx, test_idx in cv: \n",
    "        features_train = []\n",
    "        features_test  = []\n",
    "        labels_train   = []\n",
    "        labels_test    = []\n",
    "        for ii in train_idx:\n",
    "            features_train.append( features[ii] )\n",
    "            labels_train.append( labels[ii] )\n",
    "        for jj in test_idx:\n",
    "            features_test.append( features[jj] )\n",
    "            labels_test.append( labels[jj] )\n",
    "    \n",
    "selector = SelectKBest(f_classif, k = 10)\n",
    "selector.fit(features_train, labels_train)\n",
    "\n",
    "from operator import itemgetter\n",
    "features_score = []\n",
    "for i,score in enumerate(selector.scores_):\n",
    "        features_score.append((features_list[i+1], score))\n",
    "       \n",
    "\n",
    "    \n",
    "print \" Top 10 best features are:\\n\"    \n",
    "pprint.pprint(sorted(features_score, key = itemgetter(1), reverse = True)[0:10])\n",
    "    \n",
    "\n",
    "\n",
    "    \n",
    "                              "
   ]
  },
  {
   "cell_type": "markdown",
   "metadata": {},
   "source": [
    "From the above, it appears that 'bonus', 'salary' and our newly created feature 'fraction_to_poi' are three top most best features. So, 'fraction_to_poi' would definitely have an effect in the performance of the predictive model."
   ]
  },
  {
   "cell_type": "markdown",
   "metadata": {},
   "source": [
    "###### Using Top 12 features"
   ]
  },
  {
   "cell_type": "code",
   "execution_count": 413,
   "metadata": {},
   "outputs": [
    {
     "name": "stdout",
     "output_type": "stream",
     "text": [
      "Pipeline(steps=[('selector', SelectKBest(k=12, score_func=<function f_classif at 0x000000000C27B198>)), ('clf', GaussianNB(priors=None))])\n",
      "\tAccuracy: 0.85507\tPrecision: 0.44161\tRecall: 0.32900\tF1: 0.37708\tF2: 0.34668\n",
      "\tTotal predictions: 15000\tTrue positives:  658\tFalse positives:  832\tFalse negatives: 1342\tTrue negatives: 12168\n",
      "\n"
     ]
    }
   ],
   "source": [
    "## Using Top 12 features with pipeline\n",
    "\n",
    "from sklearn.feature_selection import SelectKBest\n",
    "\n",
    "estimators = [('selector', SelectKBest(k = 12)), ('clf', GaussianNB())]\n",
    "pipe_clf = Pipeline(estimators)\n",
    "\n",
    "# pipe_clf\n",
    "\n",
    "test_classifier(pipe_clf, dataset, features_list)\n"
   ]
  },
  {
   "cell_type": "markdown",
   "metadata": {},
   "source": [
    "Selecting the top 12 features and using in the classifier has definitely increased the accuracy from 0.76980 to 0.85507.\n",
    "Also, Precision, Recall and F1 values have better values after using best 12 features and are above 0.30."
   ]
  },
  {
   "cell_type": "markdown",
   "metadata": {},
   "source": [
    "###### Using PCA "
   ]
  },
  {
   "cell_type": "code",
   "execution_count": 414,
   "metadata": {},
   "outputs": [
    {
     "name": "stdout",
     "output_type": "stream",
     "text": [
      "Pipeline(steps=[('selector', SelectKBest(k=12, score_func=<function f_classif at 0x000000000C27B198>)), ('reduce_dim', PCA(copy=True, iterated_power='auto', n_components=None, random_state=42,\n",
      "  svd_solver='auto', tol=0.0, whiten=False)), ('clf', GaussianNB(priors=None))])\n",
      "\tAccuracy: 0.86187\tPrecision: 0.47418\tRecall: 0.33050\tF1: 0.38951\tF2: 0.35182\n",
      "\tTotal predictions: 15000\tTrue positives:  661\tFalse positives:  733\tFalse negatives: 1339\tTrue negatives: 12267\n",
      "\n"
     ]
    }
   ],
   "source": [
    "## using PCA with the classifier to reduce dimensions\n",
    "\n",
    "from sklearn.decomposition import PCA\n",
    "\n",
    "estimators = [('selector', SelectKBest(f_classif, k = 12)), \n",
    "              ('reduce_dim', PCA(random_state=42)),\n",
    "              ('clf', GaussianNB())]\n",
    "pipe_clf = Pipeline(estimators)\n",
    "\n",
    "test_classifier(pipe_clf, dataset, features_list)"
   ]
  },
  {
   "cell_type": "markdown",
   "metadata": {},
   "source": [
    "Using PCA in the pipeline has increased accuracy slightly from 0.85507 to 0.86187. Also, the Precision and Recall has increased slighlty. F1 score has also increased slightly. These are the best scores we have got till now, for GaussianNB. we would use next, the GridSearchCV for for finding the best params."
   ]
  },
  {
   "cell_type": "markdown",
   "metadata": {},
   "source": [
    "###### Using GridSearchCV"
   ]
  },
  {
   "cell_type": "code",
   "execution_count": 415,
   "metadata": {},
   "outputs": [
    {
     "name": "stdout",
     "output_type": "stream",
     "text": [
      "The best params after using the GridSearchCV are:\n",
      "\n",
      "{'selector__k': 10, 'reduce_dim__n_components': 2}\n"
     ]
    }
   ],
   "source": [
    "## Using GridSearchCV, fitting the training data and finding the best params\n",
    "\n",
    "from sklearn.model_selection import GridSearchCV\n",
    "\n",
    "estimators = [('selector', SelectKBest(f_classif)), \n",
    "              ('reduce_dim', PCA(random_state=42)),\n",
    "              ('clf', GaussianNB())]\n",
    "\n",
    "pipe_clf = Pipeline(estimators)\n",
    "\n",
    "params = dict(selector__k=[8,10,12],\n",
    "              reduce_dim__n_components=[None,1,2,3,4,5,6])\n",
    "\n",
    "grid_search = GridSearchCV(pipe_clf, param_grid=params)\n",
    "\n",
    "grid_search.fit(features_train, labels_train)\n",
    "\n",
    "print 'The best params after using the GridSearchCV are:\\n'\n",
    "print grid_search.best_params_"
   ]
  },
  {
   "cell_type": "markdown",
   "metadata": {},
   "source": [
    "###### Testing the GaussianNB classifier with best params "
   ]
  },
  {
   "cell_type": "code",
   "execution_count": 416,
   "metadata": {},
   "outputs": [
    {
     "name": "stdout",
     "output_type": "stream",
     "text": [
      "Pipeline(steps=[('selector', SelectKBest(k=10, score_func=<function f_classif at 0x000000000C27B198>)), ('reduce_dim', PCA(copy=True, iterated_power='auto', n_components=2, random_state=42,\n",
      "  svd_solver='auto', tol=0.0, whiten=False)), ('clf', GaussianNB(priors=None))])\n",
      "\tAccuracy: 0.87333\tPrecision: 0.55230\tRecall: 0.26400\tF1: 0.35724\tF2: 0.29477\n",
      "\tTotal predictions: 15000\tTrue positives:  528\tFalse positives:  428\tFalse negatives: 1472\tTrue negatives: 12572\n",
      "\n"
     ]
    }
   ],
   "source": [
    "## Tetsing the GaussianNB classifier with the best params\n",
    "\n",
    "estimators = [('selector', SelectKBest(f_classif, k = 10)), \n",
    "              ('reduce_dim', PCA(n_components = 2, random_state=42)),\n",
    "              ('clf', GaussianNB())]\n",
    "pipe_clf = Pipeline(estimators)\n",
    "\n",
    "\n",
    "test_classifier(pipe_clf, dataset, features_list)"
   ]
  },
  {
   "cell_type": "markdown",
   "metadata": {},
   "source": [
    "Well, this time, we got the accuracy as 0.87327 which is maximum till yet although we have also increased Precision but this has lead to loss in Recall."
   ]
  },
  {
   "cell_type": "markdown",
   "metadata": {},
   "source": [
    "###### Final settings in order to have best accuracy with precision and recall more than 0.30 "
   ]
  },
  {
   "cell_type": "markdown",
   "metadata": {},
   "source": [
    "Since, for this project, our aim is to tune our classifier to achieve better than .3 precision and recall using our testing script, we would stay with selecting best features i.e. using SelectKBest with K=12 (k = 8 and 10 has lead to either precision or either recall less than 0.30) and using PCA with n_components = 6."
   ]
  },
  {
   "cell_type": "code",
   "execution_count": 417,
   "metadata": {},
   "outputs": [
    {
     "name": "stdout",
     "output_type": "stream",
     "text": [
      "Pipeline(steps=[('selector', SelectKBest(k=12, score_func=<function f_classif at 0x000000000C27B198>)), ('reduce_dim', PCA(copy=True, iterated_power='auto', n_components=6, random_state=42,\n",
      "  svd_solver='auto', tol=0.0, whiten=False)), ('clf', GaussianNB(priors=None))])\n",
      "\tAccuracy: 0.85660\tPrecision: 0.44797\tRecall: 0.32500\tF1: 0.37670\tF2: 0.34388\n",
      "\tTotal predictions: 15000\tTrue positives:  650\tFalse positives:  801\tFalse negatives: 1350\tTrue negatives: 12199\n",
      "\n"
     ]
    }
   ],
   "source": [
    "estimators = [('selector', SelectKBest(f_classif, k = 12)), \n",
    "              ('reduce_dim', PCA(n_components = 6,random_state=42)),\n",
    "              ('clf', GaussianNB())]\n",
    "pipe_clf = Pipeline(estimators)\n",
    "\n",
    "test_classifier(pipe_clf, dataset, features_list)"
   ]
  },
  {
   "cell_type": "markdown",
   "metadata": {},
   "source": [
    "With the above parms, we are getting slightly lower accuracy of 0.85660 as when using GridSearchCV which was 0.87333.\n",
    "But this accuracy is quite good as when compared to only using the classifier without any feature selction and PCA which was 0.76980.\n",
    "Also, the Precision is 0.44797 and Recall is 0.32500 which are better than our aim of 0.30."
   ]
  },
  {
   "cell_type": "markdown",
   "metadata": {},
   "source": [
    "### Working out with DecisionTree"
   ]
  },
  {
   "cell_type": "code",
   "execution_count": 418,
   "metadata": {},
   "outputs": [
    {
     "name": "stdout",
     "output_type": "stream",
     "text": [
      "DecisionTreeClassifier(class_weight=None, criterion='gini', max_depth=None,\n",
      "            max_features=None, max_leaf_nodes=None,\n",
      "            min_impurity_split=1e-07, min_samples_leaf=1,\n",
      "            min_samples_split=2, min_weight_fraction_leaf=0.0,\n",
      "            presort=False, random_state=42, splitter='best')\n",
      "\tAccuracy: 0.81827\tPrecision: 0.31094\tRecall: 0.29850\tF1: 0.30459\tF2: 0.30091\n",
      "\tTotal predictions: 15000\tTrue positives:  597\tFalse positives: 1323\tFalse negatives: 1403\tTrue negatives: 11677\n",
      "\n"
     ]
    }
   ],
   "source": [
    "## Testing the DecisionTree classifier\n",
    "\n",
    "clf = DecisionTreeClassifier(random_state = 42)\n",
    "\n",
    "test_classifier(clf, dataset, features_list)"
   ]
  },
  {
   "cell_type": "markdown",
   "metadata": {},
   "source": [
    "###### Rescaling the features"
   ]
  },
  {
   "cell_type": "code",
   "execution_count": 419,
   "metadata": {},
   "outputs": [
    {
     "name": "stdout",
     "output_type": "stream",
     "text": [
      "Pipeline(steps=[('scaler', MinMaxScaler(copy=True, feature_range=(0, 1))), ('clf', DecisionTreeClassifier(class_weight=None, criterion='gini', max_depth=None,\n",
      "            max_features=None, max_leaf_nodes=None,\n",
      "            min_impurity_split=1e-07, min_samples_leaf=1,\n",
      "            min_samples_split=2, min_weight_fraction_leaf=0.0,\n",
      "            presort=False, random_state=42, splitter='best'))])\n",
      "\tAccuracy: 0.81827\tPrecision: 0.31094\tRecall: 0.29850\tF1: 0.30459\tF2: 0.30091\n",
      "\tTotal predictions: 15000\tTrue positives:  597\tFalse positives: 1323\tFalse negatives: 1403\tTrue negatives: 11677\n",
      "\n"
     ]
    }
   ],
   "source": [
    "## Rescaling the features and using Pipeline\n",
    "\n",
    "estimators = [('scaler', MinMaxScaler()), ('clf', DecisionTreeClassifier(random_state = 42))]                                           \n",
    "\n",
    "pipe_clf = Pipeline(estimators)\n",
    "\n",
    "## Testing the DecisionTree classifier with the rescaled features\n",
    "\n",
    "test_classifier(pipe_clf, dataset, features_list)"
   ]
  },
  {
   "cell_type": "markdown",
   "metadata": {},
   "source": [
    "Well, the metrics values after using rescaled features are still the same as when non-scaled features were used. It looks like rescaling didn't had any effect on DecisionTreee classifier. So, proceeding with original features only while working out with DecisionTree Classifier.  "
   ]
  },
  {
   "cell_type": "markdown",
   "metadata": {},
   "source": [
    "###### Feature Importance"
   ]
  },
  {
   "cell_type": "code",
   "execution_count": 420,
   "metadata": {},
   "outputs": [
    {
     "name": "stdout",
     "output_type": "stream",
     "text": [
      "Features importance are:\n",
      "\n",
      "[('shared_receipt_with_poi', 0.24148406753495255),\n",
      " ('fraction_to_poi', 0.23946905254619766),\n",
      " ('expenses', 0.16120421418768638),\n",
      " ('other', 0.14014867095789302),\n",
      " ('deferred_income', 0.069049083268845679),\n",
      " ('salary', 0.053512168141592924),\n",
      " ('deferral_payments', 0.047566371681415927),\n",
      " ('restricted_stock', 0.047566371681415927),\n",
      " ('to_messages', 0.0),\n",
      " ('total_payments', 0.0),\n",
      " ('exercised_stock_options', 0.0),\n",
      " ('bonus', 0.0),\n",
      " ('restricted_stock_deferred', 0.0),\n",
      " ('total_stock_value', 0.0),\n",
      " ('loan_advances', 0.0),\n",
      " ('from_messages', 0.0),\n",
      " ('from_this_person_to_poi', 0.0),\n",
      " ('director_fees', 0.0),\n",
      " ('long_term_incentive', 0.0),\n",
      " ('from_poi_to_this_person', 0.0),\n",
      " ('fraction_from_poi', 0.0)]\n"
     ]
    }
   ],
   "source": [
    "## Feature Importance of features used in DecisionTree classifier\n",
    "\n",
    "clf = DecisionTreeClassifier(random_state = 42)\n",
    "clf.fit(features_train, labels_train)\n",
    "clf.feature_importances_\n",
    "\n",
    "features_importance = []\n",
    "for i,imp in enumerate(clf.feature_importances_):\n",
    "        features_importance.append((features_list[i+1], imp))\n",
    "       \n",
    "\n",
    "    \n",
    "print \"Features importance are:\\n\"    \n",
    "pprint.pprint(sorted(features_importance, key = itemgetter(1), reverse = True))"
   ]
  },
  {
   "cell_type": "markdown",
   "metadata": {},
   "source": [
    "'shared_receipt_with_poi', 'fraction_to_poi' and 'expenses' are the features with 3 top most importance. Our newly created 'fraction_to_poi' is again in the top 3 list and would have a strong effect on the performance of the predictive model."
   ]
  },
  {
   "cell_type": "markdown",
   "metadata": {},
   "source": [
    "###### Making  new list features_imp_list which contains only features having importance greater than 0 and feature 'poi'"
   ]
  },
  {
   "cell_type": "code",
   "execution_count": 421,
   "metadata": {},
   "outputs": [
    {
     "data": {
      "text/plain": [
       "['poi',\n",
       " 'shared_receipt_with_poi',\n",
       " 'fraction_to_poi',\n",
       " 'expenses',\n",
       " 'other',\n",
       " 'deferred_income',\n",
       " 'salary',\n",
       " 'deferral_payments',\n",
       " 'restricted_stock']"
      ]
     },
     "execution_count": 421,
     "metadata": {},
     "output_type": "execute_result"
    }
   ],
   "source": [
    "## Making  new list features_imp_list which contains only features having importance greater than 0 and feature 'poi'\n",
    "\n",
    "features_imp_list =[]\n",
    "for feature,imp in sorted(features_importance, key = itemgetter(1), reverse = True):\n",
    "    if imp > 0.0:\n",
    "        features_imp_list.append(feature)\n",
    "\n",
    "           \n",
    "features_imp_list.insert(0, 'poi')\n",
    "features_imp_list\n"
   ]
  },
  {
   "cell_type": "markdown",
   "metadata": {},
   "source": [
    "###### Using only important fetaures"
   ]
  },
  {
   "cell_type": "code",
   "execution_count": 422,
   "metadata": {},
   "outputs": [
    {
     "name": "stdout",
     "output_type": "stream",
     "text": [
      "DecisionTreeClassifier(class_weight=None, criterion='gini', max_depth=None,\n",
      "            max_features=None, max_leaf_nodes=None,\n",
      "            min_impurity_split=1e-07, min_samples_leaf=1,\n",
      "            min_samples_split=2, min_weight_fraction_leaf=0.0,\n",
      "            presort=False, random_state=42, splitter='best')\n",
      "\tAccuracy: 0.83114\tPrecision: 0.41008\tRecall: 0.41500\tF1: 0.41252\tF2: 0.41401\n",
      "\tTotal predictions: 14000\tTrue positives:  830\tFalse positives: 1194\tFalse negatives: 1170\tTrue negatives: 10806\n",
      "\n"
     ]
    }
   ],
   "source": [
    "## Testing the DecisionTree classifier with only important features\n",
    "\n",
    "clf = DecisionTreeClassifier(random_state = 42)\n",
    "test_classifier(clf, dataset, features_imp_list)"
   ]
  },
  {
   "cell_type": "markdown",
   "metadata": {},
   "source": [
    "By only using important features in the features_imp_list, our Accuracy, Precison and Recall has increased. Lets work out further in increasing these metrics more. "
   ]
  },
  {
   "cell_type": "markdown",
   "metadata": {},
   "source": [
    "###### Using PCA"
   ]
  },
  {
   "cell_type": "code",
   "execution_count": 423,
   "metadata": {},
   "outputs": [
    {
     "name": "stdout",
     "output_type": "stream",
     "text": [
      "Pipeline(steps=[('reduce_dim', PCA(copy=True, iterated_power='auto', n_components=None, random_state=42,\n",
      "  svd_solver='auto', tol=0.0, whiten=False)), ('clf', DecisionTreeClassifier(class_weight=None, criterion='gini', max_depth=None,\n",
      "            max_features=None, max_leaf_nodes=None,\n",
      "            min_impurity_split=1e-07, min_samples_leaf=1,\n",
      "            min_samples_split=2, min_weight_fraction_leaf=0.0,\n",
      "            presort=False, random_state=42, splitter='best'))])\n",
      "\tAccuracy: 0.77979\tPrecision: 0.22016\tRecall: 0.21300\tF1: 0.21652\tF2: 0.21439\n",
      "\tTotal predictions: 14000\tTrue positives:  426\tFalse positives: 1509\tFalse negatives: 1574\tTrue negatives: 10491\n",
      "\n"
     ]
    }
   ],
   "source": [
    "## using PCA with the claasifier to reduce dimensions\n",
    "\n",
    "estimators = [('reduce_dim', PCA(random_state=42)),\n",
    "              ('clf', DecisionTreeClassifier(random_state = 42))]\n",
    "               \n",
    "pipe_clf = Pipeline(estimators)\n",
    "\n",
    "test_classifier(pipe_clf, dataset, features_imp_list)"
   ]
  },
  {
   "cell_type": "markdown",
   "metadata": {},
   "source": [
    "PCA has not helped in getting the better results. So, we would move forward without PCA."
   ]
  },
  {
   "cell_type": "markdown",
   "metadata": {},
   "source": [
    "###### Using GridSearchCV"
   ]
  },
  {
   "cell_type": "code",
   "execution_count": 424,
   "metadata": {},
   "outputs": [
    {
     "name": "stdout",
     "output_type": "stream",
     "text": [
      "The best params after using the GridSearchCV are:\n",
      "\n",
      "{'min_samples_split': 2, 'criterion': 'entropy', 'max_depth': 3, 'min_samples_leaf': 8}\n"
     ]
    }
   ],
   "source": [
    "## Using GridSearchCV, fitting the training data and finding the best params\n",
    "\n",
    "params = {'criterion':('gini','entropy'),\n",
    "          'min_samples_split':(2,4,6,8,10,12),\n",
    "          'min_samples_leaf':(2,4,6,8),\n",
    "          'max_depth':(3,4,5,6)\n",
    "             }\n",
    "\n",
    "clf = DecisionTreeClassifier(random_state = 42)\n",
    "\n",
    "grid_search = GridSearchCV(clf, param_grid=params)\n",
    "\n",
    "grid_search.fit(features_train, labels_train)\n",
    "\n",
    "print 'The best params after using the GridSearchCV are:\\n'\n",
    "print grid_search.best_params_"
   ]
  },
  {
   "cell_type": "markdown",
   "metadata": {},
   "source": [
    "###### Testing the DecisionTree classifier with best params "
   ]
  },
  {
   "cell_type": "code",
   "execution_count": 425,
   "metadata": {},
   "outputs": [
    {
     "name": "stdout",
     "output_type": "stream",
     "text": [
      "DecisionTreeClassifier(class_weight=None, criterion='entropy', max_depth=3,\n",
      "            max_features=None, max_leaf_nodes=None,\n",
      "            min_impurity_split=1e-07, min_samples_leaf=8,\n",
      "            min_samples_split=2, min_weight_fraction_leaf=0.0,\n",
      "            presort=False, random_state=42, splitter='best')\n",
      "\tAccuracy: 0.88414\tPrecision: 0.62353\tRecall: 0.47700\tF1: 0.54051\tF2: 0.50052\n",
      "\tTotal predictions: 14000\tTrue positives:  954\tFalse positives:  576\tFalse negatives: 1046\tTrue negatives: 11424\n",
      "\n"
     ]
    }
   ],
   "source": [
    "## Testing the DecisionTree classifier with the best params and using features_imp_list which contains features\n",
    "## with importance greater than 0 and 'poi'\n",
    "\n",
    "clf = DecisionTreeClassifier(criterion = 'entropy',\n",
    "                             max_depth = 3,\n",
    "                             min_samples_leaf = 8,\n",
    "                             min_samples_split = 2,\n",
    "                             random_state = 42)\n",
    "\n",
    "\n",
    "test_classifier(clf, dataset, features_imp_list)"
   ]
  },
  {
   "cell_type": "markdown",
   "metadata": {},
   "source": [
    "After using the best params with the DecisionTree classifier, we have got the accuracy increased from 0.81827 to 0.88414. Also, Precision and Recall has drastically increased with good margins. Precision has a value of 0.62353 and Recall has a value of 0.47700. Both Precision and Recall are above our aim of 0.30"
   ]
  },
  {
   "cell_type": "markdown",
   "metadata": {},
   "source": [
    "### Working out with Adaboost"
   ]
  },
  {
   "cell_type": "markdown",
   "metadata": {},
   "source": [
    "We would use the Adaboost classifier with base estimator as DecisionTree classifier with best params to see if we can further improve the predictive model."
   ]
  },
  {
   "cell_type": "markdown",
   "metadata": {},
   "source": [
    "###### Using GridSearchCV"
   ]
  },
  {
   "cell_type": "code",
   "execution_count": 426,
   "metadata": {},
   "outputs": [
    {
     "name": "stdout",
     "output_type": "stream",
     "text": [
      "The best params after using the GridSearchCV are:\n",
      "\n",
      "{'n_estimators': 10, 'learning_rate': 0.1}\n"
     ]
    }
   ],
   "source": [
    "## Using GridSearchCV, fitting the training data and finding the best params\n",
    "\n",
    "from sklearn.ensemble import AdaBoostClassifier\n",
    "\n",
    "params = {'n_estimators':(10,20,30,40,50,60,70,80),\n",
    "          'learning_rate':(0.1,0.2,0.3,0.4,0.5,0.6,0.7,0.8)}\n",
    "\n",
    "clf = AdaBoostClassifier(random_state = 42,\n",
    "                         base_estimator = DecisionTreeClassifier(criterion = 'entropy',\n",
    "                                                                 max_depth = 3,\n",
    "                                                                 min_samples_leaf = 8,\n",
    "                                                                 min_samples_split = 2,\n",
    "                                                                 random_state = 42))\n",
    "\n",
    "grid_search = GridSearchCV(clf, param_grid=params)\n",
    "\n",
    "grid_search.fit(features_train, labels_train)\n",
    "\n",
    "print 'The best params after using the GridSearchCV are:\\n'\n",
    "print grid_search.best_params_"
   ]
  },
  {
   "cell_type": "markdown",
   "metadata": {},
   "source": [
    "###### Testing the Adaboost classifier with best params"
   ]
  },
  {
   "cell_type": "code",
   "execution_count": 427,
   "metadata": {},
   "outputs": [
    {
     "name": "stdout",
     "output_type": "stream",
     "text": [
      "AdaBoostClassifier(algorithm='SAMME.R',\n",
      "          base_estimator=DecisionTreeClassifier(class_weight=None, criterion='entropy', max_depth=3,\n",
      "            max_features=None, max_leaf_nodes=None,\n",
      "            min_impurity_split=1e-07, min_samples_leaf=8,\n",
      "            min_samples_split=2, min_weight_fraction_leaf=0.0,\n",
      "            presort=False, random_state=42, splitter='best'),\n",
      "          learning_rate=1, n_estimators=10, random_state=42)\n",
      "\tAccuracy: 0.84114\tPrecision: 0.41753\tRecall: 0.28350\tF1: 0.33770\tF2: 0.30295\n",
      "\tTotal predictions: 14000\tTrue positives:  567\tFalse positives:  791\tFalse negatives: 1433\tTrue negatives: 11209\n",
      "\n"
     ]
    }
   ],
   "source": [
    "## Testing the Adaboost classifier with best params keeping base estimators as DecisionTree classifier with best params\n",
    "## and features list as features_imp_list\n",
    "\n",
    "clf = AdaBoostClassifier(random_state = 42,\n",
    "                         n_estimators = 10,\n",
    "                         learning_rate = 1,\n",
    "                         base_estimator = DecisionTreeClassifier(criterion = 'entropy',\n",
    "                                                                 max_depth = 3,\n",
    "                                                                 min_samples_leaf = 8,\n",
    "                                                                 min_samples_split = 2,\n",
    "                                                                 random_state = 42))\n",
    "\n",
    "test_classifier(clf, dataset, features_imp_list)"
   ]
  },
  {
   "cell_type": "markdown",
   "metadata": {},
   "source": [
    "Looks like this boosting with AdaBoost worsen our model. Accuracy has dropped from 0.88414 to 0.84114. Also, the Precision and Recall has dropped considerably such that Recall is now under our aim of 0.30."
   ]
  },
  {
   "cell_type": "markdown",
   "metadata": {},
   "source": [
    "### Comparison of different algorithms"
   ]
  },
  {
   "cell_type": "code",
   "execution_count": 432,
   "metadata": {},
   "outputs": [
    {
     "data": {
      "text/html": [
       "<div>\n",
       "<table border=\"1\" class=\"dataframe\">\n",
       "  <thead>\n",
       "    <tr style=\"text-align: right;\">\n",
       "      <th></th>\n",
       "      <th>Accuracy</th>\n",
       "      <th>Precision</th>\n",
       "      <th>Recall</th>\n",
       "      <th>F1</th>\n",
       "    </tr>\n",
       "  </thead>\n",
       "  <tbody>\n",
       "    <tr>\n",
       "      <th>Gaussian Naive Bayes</th>\n",
       "      <td>0.85660</td>\n",
       "      <td>0.44797</td>\n",
       "      <td>0.3250</td>\n",
       "      <td>0.37670</td>\n",
       "    </tr>\n",
       "    <tr>\n",
       "      <th>Decision Tree Classifier</th>\n",
       "      <td>0.88414</td>\n",
       "      <td>0.62353</td>\n",
       "      <td>0.4770</td>\n",
       "      <td>0.54051</td>\n",
       "    </tr>\n",
       "    <tr>\n",
       "      <th>Adaboost</th>\n",
       "      <td>0.84114</td>\n",
       "      <td>0.41753</td>\n",
       "      <td>0.2835</td>\n",
       "      <td>0.33770</td>\n",
       "    </tr>\n",
       "  </tbody>\n",
       "</table>\n",
       "</div>"
      ],
      "text/plain": [
       "                          Accuracy  Precision  Recall       F1\n",
       "Gaussian Naive Bayes       0.85660    0.44797  0.3250  0.37670\n",
       "Decision Tree Classifier   0.88414    0.62353  0.4770  0.54051\n",
       "Adaboost                   0.84114    0.41753  0.2835  0.33770"
      ]
     },
     "execution_count": 432,
     "metadata": {},
     "output_type": "execute_result"
    }
   ],
   "source": [
    "## Comparison of different algorithms\n",
    "\n",
    "pd.DataFrame([[0.85660, 0.44797, 0.32500, 0.37670],\n",
    "             [0.88414, 0.62353, 0.47700, 0.54051],\n",
    "             [0.84114, 0.41753, 0.28350, 0.33770]],\n",
    "             columns = ['Accuracy','Precision', 'Recall', 'F1'], \n",
    "             index = ['Gaussian Naive Bayes', 'Decision Tree Classifier', 'Adaboost'])\n"
   ]
  },
  {
   "cell_type": "markdown",
   "metadata": {},
   "source": [
    "From the above dataframe, we can clearly see that DecisionTree classifier has the highest metrics in Accuracy, Precision, Recall and F1. Therefore, we will keep our previous DecisionTree-based prediction model."
   ]
  },
  {
   "cell_type": "markdown",
   "metadata": {},
   "source": [
    "### Conclusion"
   ]
  },
  {
   "cell_type": "markdown",
   "metadata": {},
   "source": [
    "#### DecisionTree classifier is our final predictive model which when tested with best params and important features yield accuracy of 0.88414 with Precision & Recall of 0.62353 & 0.47700 respectively which is above our aim of achieving better than .3 precision and recall."
   ]
  },
  {
   "cell_type": "markdown",
   "metadata": {},
   "source": [
    "In the end, I managed to get the prediction model to have 88% accuracy in predicting whether a person is suspicious enough to be a Person of Interest based on their insider pay and email statistics. But accuracy is not the most important metrics here, and can even be misleading.\n",
    "\n",
    "Accuracy of 88% means \"out of all our predictions, We can be sure 88% are correct\", but then since the number of POI's are much less than non-POI's, we can just predict all as non-POI's and still get very good accuracy.\n",
    "\n",
    "The more important metrics here are precision and recall, that is:\n",
    "\n",
    "Precision: How exact my prediction is i.e. since we got 62%, then out of 100 people the model predicted as POI, we can be sure that 62 of them are indeed POIs.\n",
    "Recall: How complete my prediction is i.e. with score of 47%, given total 100 POIs in a dataset, this model can find 47 of them."
   ]
  },
  {
   "cell_type": "code",
   "execution_count": 429,
   "metadata": {},
   "outputs": [
    {
     "name": "stdout",
     "output_type": "stream",
     "text": [
      "DecisionTreeClassifier(class_weight=None, criterion='entropy', max_depth=3,\n",
      "            max_features=None, max_leaf_nodes=None,\n",
      "            min_impurity_split=1e-07, min_samples_leaf=8,\n",
      "            min_samples_split=2, min_weight_fraction_leaf=0.0,\n",
      "            presort=False, random_state=42, splitter='best')\n",
      "\tAccuracy: 0.88414\tPrecision: 0.62353\tRecall: 0.47700\tF1: 0.54051\tF2: 0.50052\n",
      "\tTotal predictions: 14000\tTrue positives:  954\tFalse positives:  576\tFalse negatives: 1046\tTrue negatives: 11424\n",
      "\n"
     ]
    }
   ],
   "source": [
    "## Testing the DecisionTree classifier with the best params and using features_imp_list which contains features\n",
    "## with importance greater than 0 and feature 'poi'\n",
    "\n",
    "clf = DecisionTreeClassifier(criterion = 'entropy',\n",
    "                             max_depth = 3,\n",
    "                             min_samples_leaf = 8,\n",
    "                             min_samples_split = 2,\n",
    "                             random_state = 42)\n",
    "\n",
    "\n",
    "test_classifier(clf, dataset, features_imp_list)"
   ]
  },
  {
   "cell_type": "markdown",
   "metadata": {},
   "source": [
    "###### Dumping classifier, dataset, and features_list"
   ]
  },
  {
   "cell_type": "markdown",
   "metadata": {},
   "source": [
    "In the end, taking a dump of classifier, dataset and features_list to pickle(.pkl) files which can then be used by tester.py file to test the classifier using pickle files."
   ]
  },
  {
   "cell_type": "code",
   "execution_count": 430,
   "metadata": {},
   "outputs": [
    {
     "name": "stdout",
     "output_type": "stream",
     "text": [
      "Classifier, dataset and features list has been dumped\n",
      "\n",
      "Three pickle files (my_dataset.pkl, my_classifier.pkl, my_feature_list.pkl) has been generated.\n",
      "Please run tester.py to test these pickle files\n"
     ]
    }
   ],
   "source": [
    "## clf is DecisionTree classifier with best params\n",
    "## dataset is the data_dict in which data has been corrected and outliers removed\n",
    "## features_imp_list is the list of important features.\n",
    "\n",
    "dump_classifier_and_data(clf, dataset, features_imp_list)\n",
    "\n",
    "print \"Classifier, dataset and features list has been dumped\\n\"\n",
    "print \"Three pickle files (my_dataset.pkl, my_classifier.pkl, my_feature_list.pkl) has been generated.\"\n",
    "print \"Please run tester.py to test these pickle files\"\n"
   ]
  },
  {
   "cell_type": "code",
   "execution_count": null,
   "metadata": {
    "collapsed": true
   },
   "outputs": [],
   "source": []
  }
 ],
 "metadata": {
  "kernelspec": {
   "display_name": "Python 2",
   "language": "python",
   "name": "python2"
  },
  "language_info": {
   "codemirror_mode": {
    "name": "ipython",
    "version": 2
   },
   "file_extension": ".py",
   "mimetype": "text/x-python",
   "name": "python",
   "nbconvert_exporter": "python",
   "pygments_lexer": "ipython2",
   "version": "2.7.12"
  }
 },
 "nbformat": 4,
 "nbformat_minor": 2
}
