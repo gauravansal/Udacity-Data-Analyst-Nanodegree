{
 "cells": [
  {
   "cell_type": "markdown",
   "metadata": {},
   "source": [
    "# Titanic dataset is analysed."
   ]
  },
  {
   "cell_type": "code",
   "execution_count": 84,
   "metadata": {
    "collapsed": false
   },
   "outputs": [
    {
     "name": "stdout",
     "output_type": "stream",
     "text": [
      "Populating the interactive namespace from numpy and matplotlib\n"
     ]
    }
   ],
   "source": [
    "# Importing pandas, numpy, matpotlib & seaborn\n",
    "\n",
    "import pandas as pd\n",
    "import numpy as np\n",
    "import matplotlib.pyplot as plt\n",
    "import matplotlib.patches as mpatches\n",
    "import seaborn as sns\n",
    "\n",
    "%matplotlib inline\n",
    "%pylab inline"
   ]
  },
  {
   "cell_type": "code",
   "execution_count": 85,
   "metadata": {
    "collapsed": false
   },
   "outputs": [
    {
     "data": {
      "text/html": [
       "<div>\n",
       "<table border=\"1\" class=\"dataframe\">\n",
       "  <thead>\n",
       "    <tr style=\"text-align: right;\">\n",
       "      <th></th>\n",
       "      <th>PassengerId</th>\n",
       "      <th>Survived</th>\n",
       "      <th>Pclass</th>\n",
       "      <th>Name</th>\n",
       "      <th>Sex</th>\n",
       "      <th>Age</th>\n",
       "      <th>SibSp</th>\n",
       "      <th>Parch</th>\n",
       "      <th>Ticket</th>\n",
       "      <th>Fare</th>\n",
       "      <th>Cabin</th>\n",
       "      <th>Embarked</th>\n",
       "    </tr>\n",
       "  </thead>\n",
       "  <tbody>\n",
       "    <tr>\n",
       "      <th>0</th>\n",
       "      <td>1</td>\n",
       "      <td>0</td>\n",
       "      <td>3</td>\n",
       "      <td>Braund, Mr. Owen Harris</td>\n",
       "      <td>male</td>\n",
       "      <td>22.0</td>\n",
       "      <td>1</td>\n",
       "      <td>0</td>\n",
       "      <td>A/5 21171</td>\n",
       "      <td>7.2500</td>\n",
       "      <td>NaN</td>\n",
       "      <td>S</td>\n",
       "    </tr>\n",
       "    <tr>\n",
       "      <th>1</th>\n",
       "      <td>2</td>\n",
       "      <td>1</td>\n",
       "      <td>1</td>\n",
       "      <td>Cumings, Mrs. John Bradley (Florence Briggs Th...</td>\n",
       "      <td>female</td>\n",
       "      <td>38.0</td>\n",
       "      <td>1</td>\n",
       "      <td>0</td>\n",
       "      <td>PC 17599</td>\n",
       "      <td>71.2833</td>\n",
       "      <td>C85</td>\n",
       "      <td>C</td>\n",
       "    </tr>\n",
       "    <tr>\n",
       "      <th>2</th>\n",
       "      <td>3</td>\n",
       "      <td>1</td>\n",
       "      <td>3</td>\n",
       "      <td>Heikkinen, Miss. Laina</td>\n",
       "      <td>female</td>\n",
       "      <td>26.0</td>\n",
       "      <td>0</td>\n",
       "      <td>0</td>\n",
       "      <td>STON/O2. 3101282</td>\n",
       "      <td>7.9250</td>\n",
       "      <td>NaN</td>\n",
       "      <td>S</td>\n",
       "    </tr>\n",
       "    <tr>\n",
       "      <th>3</th>\n",
       "      <td>4</td>\n",
       "      <td>1</td>\n",
       "      <td>1</td>\n",
       "      <td>Futrelle, Mrs. Jacques Heath (Lily May Peel)</td>\n",
       "      <td>female</td>\n",
       "      <td>35.0</td>\n",
       "      <td>1</td>\n",
       "      <td>0</td>\n",
       "      <td>113803</td>\n",
       "      <td>53.1000</td>\n",
       "      <td>C123</td>\n",
       "      <td>S</td>\n",
       "    </tr>\n",
       "    <tr>\n",
       "      <th>4</th>\n",
       "      <td>5</td>\n",
       "      <td>0</td>\n",
       "      <td>3</td>\n",
       "      <td>Allen, Mr. William Henry</td>\n",
       "      <td>male</td>\n",
       "      <td>35.0</td>\n",
       "      <td>0</td>\n",
       "      <td>0</td>\n",
       "      <td>373450</td>\n",
       "      <td>8.0500</td>\n",
       "      <td>NaN</td>\n",
       "      <td>S</td>\n",
       "    </tr>\n",
       "  </tbody>\n",
       "</table>\n",
       "</div>"
      ],
      "text/plain": [
       "   PassengerId  Survived  Pclass  \\\n",
       "0            1         0       3   \n",
       "1            2         1       1   \n",
       "2            3         1       3   \n",
       "3            4         1       1   \n",
       "4            5         0       3   \n",
       "\n",
       "                                                Name     Sex   Age  SibSp  \\\n",
       "0                            Braund, Mr. Owen Harris    male  22.0      1   \n",
       "1  Cumings, Mrs. John Bradley (Florence Briggs Th...  female  38.0      1   \n",
       "2                             Heikkinen, Miss. Laina  female  26.0      0   \n",
       "3       Futrelle, Mrs. Jacques Heath (Lily May Peel)  female  35.0      1   \n",
       "4                           Allen, Mr. William Henry    male  35.0      0   \n",
       "\n",
       "   Parch            Ticket     Fare Cabin Embarked  \n",
       "0      0         A/5 21171   7.2500   NaN        S  \n",
       "1      0          PC 17599  71.2833   C85        C  \n",
       "2      0  STON/O2. 3101282   7.9250   NaN        S  \n",
       "3      0            113803  53.1000  C123        S  \n",
       "4      0            373450   8.0500   NaN        S  "
      ]
     },
     "execution_count": 85,
     "metadata": {},
     "output_type": "execute_result"
    }
   ],
   "source": [
    "# Reading the titanic-data.csv file\n",
    "titanic_df = pd.read_csv('titanic-data.csv')\n",
    "titanic_df.head()\n"
   ]
  },
  {
   "cell_type": "code",
   "execution_count": 86,
   "metadata": {
    "collapsed": false
   },
   "outputs": [
    {
     "data": {
      "text/plain": [
       "PassengerId    False\n",
       "Survived       False\n",
       "Pclass         False\n",
       "Name           False\n",
       "Sex            False\n",
       "Age             True\n",
       "SibSp          False\n",
       "Parch          False\n",
       "Ticket         False\n",
       "Fare           False\n",
       "Cabin           True\n",
       "Embarked        True\n",
       "dtype: bool"
      ]
     },
     "execution_count": 86,
     "metadata": {},
     "output_type": "execute_result"
    }
   ],
   "source": [
    "# Finding out if there are misisng values in any cloumn\n",
    "\n",
    "titanic_df.isnull().any()"
   ]
  },
  {
   "cell_type": "markdown",
   "metadata": {},
   "source": [
    "From the above output, it appears that column 'Age', 'Cabin' and 'Embarked' has missing values."
   ]
  },
  {
   "cell_type": "code",
   "execution_count": 87,
   "metadata": {
    "collapsed": false
   },
   "outputs": [
    {
     "data": {
      "text/plain": [
       "PassengerId      0\n",
       "Survived         0\n",
       "Pclass           0\n",
       "Name             0\n",
       "Sex              0\n",
       "Age            177\n",
       "SibSp            0\n",
       "Parch            0\n",
       "Ticket           0\n",
       "Fare             0\n",
       "Cabin          687\n",
       "Embarked         2\n",
       "dtype: int64"
      ]
     },
     "execution_count": 87,
     "metadata": {},
     "output_type": "execute_result"
    }
   ],
   "source": [
    "# Finding out the missing value count in each column\n",
    "\n",
    "titanic_df.isnull().sum()"
   ]
  },
  {
   "cell_type": "markdown",
   "metadata": {},
   "source": [
    "Columns 'Age', 'Cabin' and 'Embarked' has missing values as seen above. 'Age' has 177, 'Cabin' has 687, 'Embarked' has 2 missing values. Cabin colummn has lot of missing values, so we would not treat Cabin cloumn for our analysis."
   ]
  },
  {
   "cell_type": "markdown",
   "metadata": {},
   "source": [
    "We would work on column 'Age' and 'Embarked' missing values. "
   ]
  },
  {
   "cell_type": "markdown",
   "metadata": {},
   "source": [
    "There are two ways in which we could deal with missing values of column 'Age'. One, is to the fill in the missing values of the column 'Age' with mean, median or mode. But filling in missing values in the 'Age' column artificially affects the distribution. This could  mislead the entire analysis and could affect the prediction. Therefore, it becomes tricky to infer things about the true Age variable and its relationships with other variables. Another way, is to drop out the missing values of column 'Age'. Though, this would result in a slightly smaller data set but may be more representative of the whole population and would provide the true Age values. So, we would work on 'Age' column by droping out the misisng values as it would better provide the actual sense of data."
   ]
  },
  {
   "cell_type": "markdown",
   "metadata": {},
   "source": [
    "For 'Embarked' Column, we would fill in the missing value by the most occuring value of the column as there are only 2 values which are missing and it would not affect the distribution of the data."
   ]
  },
  {
   "cell_type": "code",
   "execution_count": 88,
   "metadata": {
    "collapsed": false
   },
   "outputs": [
    {
     "data": {
      "text/plain": [
       "Embarked\n",
       "C    168\n",
       "Q     77\n",
       "S    644\n",
       "dtype: int64"
      ]
     },
     "execution_count": 88,
     "metadata": {},
     "output_type": "execute_result"
    }
   ],
   "source": [
    "#Finding out the mode of Column Embarked and filling the missing value.\n",
    "titanic_df.groupby('Embarked').size()"
   ]
  },
  {
   "cell_type": "markdown",
   "metadata": {},
   "source": [
    "As we can see, S i.e Southampton has maximum occuring value. so we would fill the missing values in Cloumn Embarked with S."
   ]
  },
  {
   "cell_type": "code",
   "execution_count": 89,
   "metadata": {
    "collapsed": true
   },
   "outputs": [],
   "source": [
    "titanic_df['Embarked'] = titanic_df['Embarked'].fillna('S')"
   ]
  },
  {
   "cell_type": "code",
   "execution_count": 90,
   "metadata": {
    "collapsed": false
   },
   "outputs": [
    {
     "name": "stdout",
     "output_type": "stream",
     "text": [
      "PassengerId      0\n",
      "Survived         0\n",
      "Pclass           0\n",
      "Name             0\n",
      "Sex              0\n",
      "Age            177\n",
      "SibSp            0\n",
      "Parch            0\n",
      "Ticket           0\n",
      "Fare             0\n",
      "Cabin          687\n",
      "Embarked         0\n",
      "dtype: int64\n",
      "\n",
      " \n",
      "Below is Size of group of values in Embarked Column after replacing missing values\n",
      "\n",
      "\n",
      "Embarked\n",
      "C    168\n",
      "Q     77\n",
      "S    646\n",
      "dtype: int64\n"
     ]
    }
   ],
   "source": [
    "#Running the below code again to check if there are any null values more in Embarked Column.\n",
    "print titanic_df.isnull().sum()\n",
    "print '\\n '\n",
    "print 'Below is Size of group of values in Embarked Column after replacing missing values'\n",
    "print '\\n'\n",
    "print titanic_df.groupby('Embarked').size()"
   ]
  },
  {
   "cell_type": "code",
   "execution_count": 91,
   "metadata": {
    "collapsed": false
   },
   "outputs": [
    {
     "data": {
      "text/html": [
       "<div>\n",
       "<table border=\"1\" class=\"dataframe\">\n",
       "  <thead>\n",
       "    <tr style=\"text-align: right;\">\n",
       "      <th></th>\n",
       "      <th></th>\n",
       "      <th>Age</th>\n",
       "      <th>Fare</th>\n",
       "      <th>Parch</th>\n",
       "      <th>PassengerId</th>\n",
       "      <th>Pclass</th>\n",
       "      <th>SibSp</th>\n",
       "    </tr>\n",
       "    <tr>\n",
       "      <th>Survived</th>\n",
       "      <th></th>\n",
       "      <th></th>\n",
       "      <th></th>\n",
       "      <th></th>\n",
       "      <th></th>\n",
       "      <th></th>\n",
       "      <th></th>\n",
       "    </tr>\n",
       "  </thead>\n",
       "  <tbody>\n",
       "    <tr>\n",
       "      <th rowspan=\"8\" valign=\"top\">0</th>\n",
       "      <th>count</th>\n",
       "      <td>424.000000</td>\n",
       "      <td>549.000000</td>\n",
       "      <td>549.000000</td>\n",
       "      <td>549.000000</td>\n",
       "      <td>549.000000</td>\n",
       "      <td>549.000000</td>\n",
       "    </tr>\n",
       "    <tr>\n",
       "      <th>mean</th>\n",
       "      <td>30.626179</td>\n",
       "      <td>22.117887</td>\n",
       "      <td>0.329690</td>\n",
       "      <td>447.016393</td>\n",
       "      <td>2.531876</td>\n",
       "      <td>0.553734</td>\n",
       "    </tr>\n",
       "    <tr>\n",
       "      <th>std</th>\n",
       "      <td>14.172110</td>\n",
       "      <td>31.388207</td>\n",
       "      <td>0.823166</td>\n",
       "      <td>260.640469</td>\n",
       "      <td>0.735805</td>\n",
       "      <td>1.288399</td>\n",
       "    </tr>\n",
       "    <tr>\n",
       "      <th>min</th>\n",
       "      <td>1.000000</td>\n",
       "      <td>0.000000</td>\n",
       "      <td>0.000000</td>\n",
       "      <td>1.000000</td>\n",
       "      <td>1.000000</td>\n",
       "      <td>0.000000</td>\n",
       "    </tr>\n",
       "    <tr>\n",
       "      <th>25%</th>\n",
       "      <td>21.000000</td>\n",
       "      <td>7.854200</td>\n",
       "      <td>0.000000</td>\n",
       "      <td>211.000000</td>\n",
       "      <td>2.000000</td>\n",
       "      <td>0.000000</td>\n",
       "    </tr>\n",
       "    <tr>\n",
       "      <th>50%</th>\n",
       "      <td>28.000000</td>\n",
       "      <td>10.500000</td>\n",
       "      <td>0.000000</td>\n",
       "      <td>455.000000</td>\n",
       "      <td>3.000000</td>\n",
       "      <td>0.000000</td>\n",
       "    </tr>\n",
       "    <tr>\n",
       "      <th>75%</th>\n",
       "      <td>39.000000</td>\n",
       "      <td>26.000000</td>\n",
       "      <td>0.000000</td>\n",
       "      <td>675.000000</td>\n",
       "      <td>3.000000</td>\n",
       "      <td>1.000000</td>\n",
       "    </tr>\n",
       "    <tr>\n",
       "      <th>max</th>\n",
       "      <td>74.000000</td>\n",
       "      <td>263.000000</td>\n",
       "      <td>6.000000</td>\n",
       "      <td>891.000000</td>\n",
       "      <td>3.000000</td>\n",
       "      <td>8.000000</td>\n",
       "    </tr>\n",
       "    <tr>\n",
       "      <th rowspan=\"8\" valign=\"top\">1</th>\n",
       "      <th>count</th>\n",
       "      <td>290.000000</td>\n",
       "      <td>342.000000</td>\n",
       "      <td>342.000000</td>\n",
       "      <td>342.000000</td>\n",
       "      <td>342.000000</td>\n",
       "      <td>342.000000</td>\n",
       "    </tr>\n",
       "    <tr>\n",
       "      <th>mean</th>\n",
       "      <td>28.343690</td>\n",
       "      <td>48.395408</td>\n",
       "      <td>0.464912</td>\n",
       "      <td>444.368421</td>\n",
       "      <td>1.950292</td>\n",
       "      <td>0.473684</td>\n",
       "    </tr>\n",
       "    <tr>\n",
       "      <th>std</th>\n",
       "      <td>14.950952</td>\n",
       "      <td>66.596998</td>\n",
       "      <td>0.771712</td>\n",
       "      <td>252.358840</td>\n",
       "      <td>0.863321</td>\n",
       "      <td>0.708688</td>\n",
       "    </tr>\n",
       "    <tr>\n",
       "      <th>min</th>\n",
       "      <td>0.420000</td>\n",
       "      <td>0.000000</td>\n",
       "      <td>0.000000</td>\n",
       "      <td>2.000000</td>\n",
       "      <td>1.000000</td>\n",
       "      <td>0.000000</td>\n",
       "    </tr>\n",
       "    <tr>\n",
       "      <th>25%</th>\n",
       "      <td>19.000000</td>\n",
       "      <td>12.475000</td>\n",
       "      <td>0.000000</td>\n",
       "      <td>250.750000</td>\n",
       "      <td>1.000000</td>\n",
       "      <td>0.000000</td>\n",
       "    </tr>\n",
       "    <tr>\n",
       "      <th>50%</th>\n",
       "      <td>28.000000</td>\n",
       "      <td>26.000000</td>\n",
       "      <td>0.000000</td>\n",
       "      <td>439.500000</td>\n",
       "      <td>2.000000</td>\n",
       "      <td>0.000000</td>\n",
       "    </tr>\n",
       "    <tr>\n",
       "      <th>75%</th>\n",
       "      <td>36.000000</td>\n",
       "      <td>57.000000</td>\n",
       "      <td>1.000000</td>\n",
       "      <td>651.500000</td>\n",
       "      <td>3.000000</td>\n",
       "      <td>1.000000</td>\n",
       "    </tr>\n",
       "    <tr>\n",
       "      <th>max</th>\n",
       "      <td>80.000000</td>\n",
       "      <td>512.329200</td>\n",
       "      <td>5.000000</td>\n",
       "      <td>890.000000</td>\n",
       "      <td>3.000000</td>\n",
       "      <td>4.000000</td>\n",
       "    </tr>\n",
       "  </tbody>\n",
       "</table>\n",
       "</div>"
      ],
      "text/plain": [
       "                       Age        Fare       Parch  PassengerId      Pclass  \\\n",
       "Survived                                                                      \n",
       "0        count  424.000000  549.000000  549.000000   549.000000  549.000000   \n",
       "         mean    30.626179   22.117887    0.329690   447.016393    2.531876   \n",
       "         std     14.172110   31.388207    0.823166   260.640469    0.735805   \n",
       "         min      1.000000    0.000000    0.000000     1.000000    1.000000   \n",
       "         25%     21.000000    7.854200    0.000000   211.000000    2.000000   \n",
       "         50%     28.000000   10.500000    0.000000   455.000000    3.000000   \n",
       "         75%     39.000000   26.000000    0.000000   675.000000    3.000000   \n",
       "         max     74.000000  263.000000    6.000000   891.000000    3.000000   \n",
       "1        count  290.000000  342.000000  342.000000   342.000000  342.000000   \n",
       "         mean    28.343690   48.395408    0.464912   444.368421    1.950292   \n",
       "         std     14.950952   66.596998    0.771712   252.358840    0.863321   \n",
       "         min      0.420000    0.000000    0.000000     2.000000    1.000000   \n",
       "         25%     19.000000   12.475000    0.000000   250.750000    1.000000   \n",
       "         50%     28.000000   26.000000    0.000000   439.500000    2.000000   \n",
       "         75%     36.000000   57.000000    1.000000   651.500000    3.000000   \n",
       "         max     80.000000  512.329200    5.000000   890.000000    3.000000   \n",
       "\n",
       "                     SibSp  \n",
       "Survived                    \n",
       "0        count  549.000000  \n",
       "         mean     0.553734  \n",
       "         std      1.288399  \n",
       "         min      0.000000  \n",
       "         25%      0.000000  \n",
       "         50%      0.000000  \n",
       "         75%      1.000000  \n",
       "         max      8.000000  \n",
       "1        count  342.000000  \n",
       "         mean     0.473684  \n",
       "         std      0.708688  \n",
       "         min      0.000000  \n",
       "         25%      0.000000  \n",
       "         50%      0.000000  \n",
       "         75%      1.000000  \n",
       "         max      4.000000  "
      ]
     },
     "execution_count": 91,
     "metadata": {},
     "output_type": "execute_result"
    }
   ],
   "source": [
    "# Grouping the data as per Survived variable and describing it.\n",
    "titanic_df.groupby('Survived').describe()\n"
   ]
  },
  {
   "cell_type": "code",
   "execution_count": 92,
   "metadata": {
    "collapsed": false
   },
   "outputs": [],
   "source": [
    "# making 2 dataframe for survived data and non_survived data.\n",
    "\n",
    "non_survived_data = titanic_df[titanic_df['Survived']==0]\n",
    "survived_data = titanic_df[titanic_df['Survived']==1] "
   ]
  },
  {
   "cell_type": "markdown",
   "metadata": {},
   "source": [
    "# Does Age had any affect on survival?"
   ]
  },
  {
   "cell_type": "code",
   "execution_count": 93,
   "metadata": {
    "collapsed": false
   },
   "outputs": [
    {
     "name": "stdout",
     "output_type": "stream",
     "text": [
      "count    290.000000\n",
      "mean      28.343690\n",
      "std       14.950952\n",
      "min        0.420000\n",
      "25%       19.000000\n",
      "50%       28.000000\n",
      "75%       36.000000\n",
      "max       80.000000\n",
      "Name: Age, dtype: float64\n",
      "\n",
      "\n",
      "count    424.000000\n",
      "mean      30.626179\n",
      "std       14.172110\n",
      "min        1.000000\n",
      "25%       21.000000\n",
      "50%       28.000000\n",
      "75%       39.000000\n",
      "max       74.000000\n",
      "Name: Age, dtype: float64\n"
     ]
    }
   ],
   "source": [
    "#Droping out the missing values in column 'Age'\n",
    "#Calculating ages info. of survivors and non_survivors \n",
    "#Decription of the survived_ages and non_survived_ages\n",
    "\n",
    "survived_ages=survived_data['Age'].dropna()\n",
    "print survived_ages.describe()\n",
    "\n",
    "print '\\n'\n",
    "\n",
    "non_survived_ages = non_survived_data['Age'].dropna()\n",
    "print non_survived_ages.describe()"
   ]
  },
  {
   "cell_type": "markdown",
   "metadata": {},
   "source": [
    "In the above cell, we have dropped out the missing values in column 'Age'. "
   ]
  },
  {
   "cell_type": "code",
   "execution_count": 94,
   "metadata": {
    "collapsed": false
   },
   "outputs": [
    {
     "data": {
      "image/png": "[encoded data removed]",
      "text/plain": [
       "<matplotlib.figure.Figure at 0xbaaea20>"
      ]
     },
     "metadata": {},
     "output_type": "display_data"
    }
   ],
   "source": [
    "#Histogram of survived_ages\n",
    "\n",
    "plt.hist(survived_ages,color=['blue'])\n",
    "plt.xlabel('survived_ages')\n",
    "plt.ylabel('count')\n",
    "plt.title('Histogram of survivor ages')\n",
    "plt.show()\n"
   ]
  },
  {
   "cell_type": "code",
   "execution_count": 95,
   "metadata": {
    "collapsed": false
   },
   "outputs": [
    {
     "data": {
      "image/png": "[encoded data removed]",
      "text/plain": [
       "<matplotlib.figure.Figure at 0xc362a90>"
      ]
     },
     "metadata": {},
     "output_type": "display_data"
    }
   ],
   "source": [
    "#Histogram of non_survived_ages\n",
    "\n",
    "plt.hist(non_survived_ages,color=['red'])\n",
    "plt.xlabel('non_survived_ages')\n",
    "plt.ylabel('count')\n",
    "plt.title('Histogram of non_survivor ages')\n",
    "plt.show()"
   ]
  },
  {
   "cell_type": "markdown",
   "metadata": {},
   "source": [
    "From the above describe() info. and Histogram, its appears -"
   ]
  },
  {
   "cell_type": "markdown",
   "metadata": {},
   "source": [
    "i) Mean Age of survived passengers was 28.34 years whereas Mean Age of non_survived passenegers was 30.62 years which are almost same.\n"
   ]
  },
  {
   "cell_type": "markdown",
   "metadata": {},
   "source": [
    "ii) std deviation of both the survived and non_survived passengers is between 14-15. Mean value of one group falls within one standard deviation away from the mean of the other group.\n"
   ]
  },
  {
   "cell_type": "markdown",
   "metadata": {},
   "source": [
    "iii) Histogram of both the survived_ages and non_survived_ages appears to approx. same.\n",
    "\n",
    "From the above finding, it doesn't seem that the age is a significant decideing factor on the survival of the passengers.\n"
   ]
  },
  {
   "cell_type": "markdown",
   "metadata": {},
   "source": [
    "# Does Gender had any affect on survival?\n"
   ]
  },
  {
   "cell_type": "code",
   "execution_count": 96,
   "metadata": {
    "collapsed": false
   },
   "outputs": [
    {
     "data": {
      "text/html": [
       "<div>\n",
       "<table border=\"1\" class=\"dataframe\">\n",
       "  <thead>\n",
       "    <tr style=\"text-align: right;\">\n",
       "      <th></th>\n",
       "      <th></th>\n",
       "      <th></th>\n",
       "      <th>Age</th>\n",
       "      <th>Fare</th>\n",
       "      <th>Parch</th>\n",
       "      <th>PassengerId</th>\n",
       "      <th>Pclass</th>\n",
       "      <th>SibSp</th>\n",
       "    </tr>\n",
       "    <tr>\n",
       "      <th>Sex</th>\n",
       "      <th>Survived</th>\n",
       "      <th></th>\n",
       "      <th></th>\n",
       "      <th></th>\n",
       "      <th></th>\n",
       "      <th></th>\n",
       "      <th></th>\n",
       "      <th></th>\n",
       "    </tr>\n",
       "  </thead>\n",
       "  <tbody>\n",
       "    <tr>\n",
       "      <th rowspan=\"16\" valign=\"top\">female</th>\n",
       "      <th rowspan=\"8\" valign=\"top\">0</th>\n",
       "      <th>count</th>\n",
       "      <td>64.000000</td>\n",
       "      <td>81.000000</td>\n",
       "      <td>81.000000</td>\n",
       "      <td>81.000000</td>\n",
       "      <td>81.000000</td>\n",
       "      <td>81.000000</td>\n",
       "    </tr>\n",
       "    <tr>\n",
       "      <th>mean</th>\n",
       "      <td>25.046875</td>\n",
       "      <td>23.024385</td>\n",
       "      <td>1.037037</td>\n",
       "      <td>434.851852</td>\n",
       "      <td>2.851852</td>\n",
       "      <td>1.209877</td>\n",
       "    </tr>\n",
       "    <tr>\n",
       "      <th>std</th>\n",
       "      <td>13.618591</td>\n",
       "      <td>24.821287</td>\n",
       "      <td>1.391442</td>\n",
       "      <td>263.522063</td>\n",
       "      <td>0.450309</td>\n",
       "      <td>1.814635</td>\n",
       "    </tr>\n",
       "    <tr>\n",
       "      <th>min</th>\n",
       "      <td>2.000000</td>\n",
       "      <td>6.750000</td>\n",
       "      <td>0.000000</td>\n",
       "      <td>15.000000</td>\n",
       "      <td>1.000000</td>\n",
       "      <td>0.000000</td>\n",
       "    </tr>\n",
       "    <tr>\n",
       "      <th>25%</th>\n",
       "      <td>16.750000</td>\n",
       "      <td>8.850000</td>\n",
       "      <td>0.000000</td>\n",
       "      <td>206.000000</td>\n",
       "      <td>3.000000</td>\n",
       "      <td>0.000000</td>\n",
       "    </tr>\n",
       "    <tr>\n",
       "      <th>50%</th>\n",
       "      <td>24.500000</td>\n",
       "      <td>15.245800</td>\n",
       "      <td>0.000000</td>\n",
       "      <td>420.000000</td>\n",
       "      <td>3.000000</td>\n",
       "      <td>1.000000</td>\n",
       "    </tr>\n",
       "    <tr>\n",
       "      <th>75%</th>\n",
       "      <td>33.250000</td>\n",
       "      <td>27.900000</td>\n",
       "      <td>2.000000</td>\n",
       "      <td>643.000000</td>\n",
       "      <td>3.000000</td>\n",
       "      <td>1.000000</td>\n",
       "    </tr>\n",
       "    <tr>\n",
       "      <th>max</th>\n",
       "      <td>57.000000</td>\n",
       "      <td>151.550000</td>\n",
       "      <td>6.000000</td>\n",
       "      <td>889.000000</td>\n",
       "      <td>3.000000</td>\n",
       "      <td>8.000000</td>\n",
       "    </tr>\n",
       "    <tr>\n",
       "      <th rowspan=\"8\" valign=\"top\">1</th>\n",
       "      <th>count</th>\n",
       "      <td>197.000000</td>\n",
       "      <td>233.000000</td>\n",
       "      <td>233.000000</td>\n",
       "      <td>233.000000</td>\n",
       "      <td>233.000000</td>\n",
       "      <td>233.000000</td>\n",
       "    </tr>\n",
       "    <tr>\n",
       "      <th>mean</th>\n",
       "      <td>28.847716</td>\n",
       "      <td>51.938573</td>\n",
       "      <td>0.515021</td>\n",
       "      <td>429.699571</td>\n",
       "      <td>1.918455</td>\n",
       "      <td>0.515021</td>\n",
       "    </tr>\n",
       "    <tr>\n",
       "      <th>std</th>\n",
       "      <td>14.175073</td>\n",
       "      <td>64.102256</td>\n",
       "      <td>0.820527</td>\n",
       "      <td>255.048296</td>\n",
       "      <td>0.834211</td>\n",
       "      <td>0.737533</td>\n",
       "    </tr>\n",
       "    <tr>\n",
       "      <th>min</th>\n",
       "      <td>0.750000</td>\n",
       "      <td>7.225000</td>\n",
       "      <td>0.000000</td>\n",
       "      <td>2.000000</td>\n",
       "      <td>1.000000</td>\n",
       "      <td>0.000000</td>\n",
       "    </tr>\n",
       "    <tr>\n",
       "      <th>25%</th>\n",
       "      <td>19.000000</td>\n",
       "      <td>13.000000</td>\n",
       "      <td>0.000000</td>\n",
       "      <td>238.000000</td>\n",
       "      <td>1.000000</td>\n",
       "      <td>0.000000</td>\n",
       "    </tr>\n",
       "    <tr>\n",
       "      <th>50%</th>\n",
       "      <td>28.000000</td>\n",
       "      <td>26.000000</td>\n",
       "      <td>0.000000</td>\n",
       "      <td>400.000000</td>\n",
       "      <td>2.000000</td>\n",
       "      <td>0.000000</td>\n",
       "    </tr>\n",
       "    <tr>\n",
       "      <th>75%</th>\n",
       "      <td>38.000000</td>\n",
       "      <td>76.291700</td>\n",
       "      <td>1.000000</td>\n",
       "      <td>636.000000</td>\n",
       "      <td>3.000000</td>\n",
       "      <td>1.000000</td>\n",
       "    </tr>\n",
       "    <tr>\n",
       "      <th>max</th>\n",
       "      <td>63.000000</td>\n",
       "      <td>512.329200</td>\n",
       "      <td>5.000000</td>\n",
       "      <td>888.000000</td>\n",
       "      <td>3.000000</td>\n",
       "      <td>4.000000</td>\n",
       "    </tr>\n",
       "    <tr>\n",
       "      <th rowspan=\"16\" valign=\"top\">male</th>\n",
       "      <th rowspan=\"8\" valign=\"top\">0</th>\n",
       "      <th>count</th>\n",
       "      <td>360.000000</td>\n",
       "      <td>468.000000</td>\n",
       "      <td>468.000000</td>\n",
       "      <td>468.000000</td>\n",
       "      <td>468.000000</td>\n",
       "      <td>468.000000</td>\n",
       "    </tr>\n",
       "    <tr>\n",
       "      <th>mean</th>\n",
       "      <td>31.618056</td>\n",
       "      <td>21.960993</td>\n",
       "      <td>0.207265</td>\n",
       "      <td>449.121795</td>\n",
       "      <td>2.476496</td>\n",
       "      <td>0.440171</td>\n",
       "    </tr>\n",
       "    <tr>\n",
       "      <th>std</th>\n",
       "      <td>14.056019</td>\n",
       "      <td>32.409799</td>\n",
       "      <td>0.601382</td>\n",
       "      <td>260.365260</td>\n",
       "      <td>0.761411</td>\n",
       "      <td>1.138507</td>\n",
       "    </tr>\n",
       "    <tr>\n",
       "      <th>min</th>\n",
       "      <td>1.000000</td>\n",
       "      <td>0.000000</td>\n",
       "      <td>0.000000</td>\n",
       "      <td>1.000000</td>\n",
       "      <td>1.000000</td>\n",
       "      <td>0.000000</td>\n",
       "    </tr>\n",
       "    <tr>\n",
       "      <th>25%</th>\n",
       "      <td>21.750000</td>\n",
       "      <td>7.795800</td>\n",
       "      <td>0.000000</td>\n",
       "      <td>212.500000</td>\n",
       "      <td>2.000000</td>\n",
       "      <td>0.000000</td>\n",
       "    </tr>\n",
       "    <tr>\n",
       "      <th>50%</th>\n",
       "      <td>29.000000</td>\n",
       "      <td>9.416650</td>\n",
       "      <td>0.000000</td>\n",
       "      <td>461.000000</td>\n",
       "      <td>3.000000</td>\n",
       "      <td>0.000000</td>\n",
       "    </tr>\n",
       "    <tr>\n",
       "      <th>75%</th>\n",
       "      <td>39.250000</td>\n",
       "      <td>26.000000</td>\n",
       "      <td>0.000000</td>\n",
       "      <td>678.500000</td>\n",
       "      <td>3.000000</td>\n",
       "      <td>0.000000</td>\n",
       "    </tr>\n",
       "    <tr>\n",
       "      <th>max</th>\n",
       "      <td>74.000000</td>\n",
       "      <td>263.000000</td>\n",
       "      <td>5.000000</td>\n",
       "      <td>891.000000</td>\n",
       "      <td>3.000000</td>\n",
       "      <td>8.000000</td>\n",
       "    </tr>\n",
       "    <tr>\n",
       "      <th rowspan=\"8\" valign=\"top\">1</th>\n",
       "      <th>count</th>\n",
       "      <td>93.000000</td>\n",
       "      <td>109.000000</td>\n",
       "      <td>109.000000</td>\n",
       "      <td>109.000000</td>\n",
       "      <td>109.000000</td>\n",
       "      <td>109.000000</td>\n",
       "    </tr>\n",
       "    <tr>\n",
       "      <th>mean</th>\n",
       "      <td>27.276022</td>\n",
       "      <td>40.821484</td>\n",
       "      <td>0.357798</td>\n",
       "      <td>475.724771</td>\n",
       "      <td>2.018349</td>\n",
       "      <td>0.385321</td>\n",
       "    </tr>\n",
       "    <tr>\n",
       "      <th>std</th>\n",
       "      <td>16.504803</td>\n",
       "      <td>71.355967</td>\n",
       "      <td>0.645826</td>\n",
       "      <td>244.717482</td>\n",
       "      <td>0.922774</td>\n",
       "      <td>0.636952</td>\n",
       "    </tr>\n",
       "    <tr>\n",
       "      <th>min</th>\n",
       "      <td>0.420000</td>\n",
       "      <td>0.000000</td>\n",
       "      <td>0.000000</td>\n",
       "      <td>18.000000</td>\n",
       "      <td>1.000000</td>\n",
       "      <td>0.000000</td>\n",
       "    </tr>\n",
       "    <tr>\n",
       "      <th>25%</th>\n",
       "      <td>18.000000</td>\n",
       "      <td>9.500000</td>\n",
       "      <td>0.000000</td>\n",
       "      <td>272.000000</td>\n",
       "      <td>1.000000</td>\n",
       "      <td>0.000000</td>\n",
       "    </tr>\n",
       "    <tr>\n",
       "      <th>50%</th>\n",
       "      <td>28.000000</td>\n",
       "      <td>26.287500</td>\n",
       "      <td>0.000000</td>\n",
       "      <td>508.000000</td>\n",
       "      <td>2.000000</td>\n",
       "      <td>0.000000</td>\n",
       "    </tr>\n",
       "    <tr>\n",
       "      <th>75%</th>\n",
       "      <td>36.000000</td>\n",
       "      <td>39.000000</td>\n",
       "      <td>1.000000</td>\n",
       "      <td>680.000000</td>\n",
       "      <td>3.000000</td>\n",
       "      <td>1.000000</td>\n",
       "    </tr>\n",
       "    <tr>\n",
       "      <th>max</th>\n",
       "      <td>80.000000</td>\n",
       "      <td>512.329200</td>\n",
       "      <td>2.000000</td>\n",
       "      <td>890.000000</td>\n",
       "      <td>3.000000</td>\n",
       "      <td>4.000000</td>\n",
       "    </tr>\n",
       "  </tbody>\n",
       "</table>\n",
       "</div>"
      ],
      "text/plain": [
       "                              Age        Fare       Parch  PassengerId  \\\n",
       "Sex    Survived                                                          \n",
       "female 0        count   64.000000   81.000000   81.000000    81.000000   \n",
       "                mean    25.046875   23.024385    1.037037   434.851852   \n",
       "                std     13.618591   24.821287    1.391442   263.522063   \n",
       "                min      2.000000    6.750000    0.000000    15.000000   \n",
       "                25%     16.750000    8.850000    0.000000   206.000000   \n",
       "                50%     24.500000   15.245800    0.000000   420.000000   \n",
       "                75%     33.250000   27.900000    2.000000   643.000000   \n",
       "                max     57.000000  151.550000    6.000000   889.000000   \n",
       "       1        count  197.000000  233.000000  233.000000   233.000000   \n",
       "                mean    28.847716   51.938573    0.515021   429.699571   \n",
       "                std     14.175073   64.102256    0.820527   255.048296   \n",
       "                min      0.750000    7.225000    0.000000     2.000000   \n",
       "                25%     19.000000   13.000000    0.000000   238.000000   \n",
       "                50%     28.000000   26.000000    0.000000   400.000000   \n",
       "                75%     38.000000   76.291700    1.000000   636.000000   \n",
       "                max     63.000000  512.329200    5.000000   888.000000   \n",
       "male   0        count  360.000000  468.000000  468.000000   468.000000   \n",
       "                mean    31.618056   21.960993    0.207265   449.121795   \n",
       "                std     14.056019   32.409799    0.601382   260.365260   \n",
       "                min      1.000000    0.000000    0.000000     1.000000   \n",
       "                25%     21.750000    7.795800    0.000000   212.500000   \n",
       "                50%     29.000000    9.416650    0.000000   461.000000   \n",
       "                75%     39.250000   26.000000    0.000000   678.500000   \n",
       "                max     74.000000  263.000000    5.000000   891.000000   \n",
       "       1        count   93.000000  109.000000  109.000000   109.000000   \n",
       "                mean    27.276022   40.821484    0.357798   475.724771   \n",
       "                std     16.504803   71.355967    0.645826   244.717482   \n",
       "                min      0.420000    0.000000    0.000000    18.000000   \n",
       "                25%     18.000000    9.500000    0.000000   272.000000   \n",
       "                50%     28.000000   26.287500    0.000000   508.000000   \n",
       "                75%     36.000000   39.000000    1.000000   680.000000   \n",
       "                max     80.000000  512.329200    2.000000   890.000000   \n",
       "\n",
       "                           Pclass       SibSp  \n",
       "Sex    Survived                                \n",
       "female 0        count   81.000000   81.000000  \n",
       "                mean     2.851852    1.209877  \n",
       "                std      0.450309    1.814635  \n",
       "                min      1.000000    0.000000  \n",
       "                25%      3.000000    0.000000  \n",
       "                50%      3.000000    1.000000  \n",
       "                75%      3.000000    1.000000  \n",
       "                max      3.000000    8.000000  \n",
       "       1        count  233.000000  233.000000  \n",
       "                mean     1.918455    0.515021  \n",
       "                std      0.834211    0.737533  \n",
       "                min      1.000000    0.000000  \n",
       "                25%      1.000000    0.000000  \n",
       "                50%      2.000000    0.000000  \n",
       "                75%      3.000000    1.000000  \n",
       "                max      3.000000    4.000000  \n",
       "male   0        count  468.000000  468.000000  \n",
       "                mean     2.476496    0.440171  \n",
       "                std      0.761411    1.138507  \n",
       "                min      1.000000    0.000000  \n",
       "                25%      2.000000    0.000000  \n",
       "                50%      3.000000    0.000000  \n",
       "                75%      3.000000    0.000000  \n",
       "                max      3.000000    8.000000  \n",
       "       1        count  109.000000  109.000000  \n",
       "                mean     2.018349    0.385321  \n",
       "                std      0.922774    0.636952  \n",
       "                min      1.000000    0.000000  \n",
       "                25%      1.000000    0.000000  \n",
       "                50%      2.000000    0.000000  \n",
       "                75%      3.000000    1.000000  \n",
       "                max      3.000000    4.000000  "
      ]
     },
     "execution_count": 96,
     "metadata": {},
     "output_type": "execute_result"
    }
   ],
   "source": [
    "#Grouping the dataframe by Gender and Survived\n",
    "\n",
    "titanic_df.groupby(['Sex','Survived']).describe()"
   ]
  },
  {
   "cell_type": "code",
   "execution_count": 97,
   "metadata": {
    "collapsed": false
   },
   "outputs": [
    {
     "name": "stdout",
     "output_type": "stream",
     "text": [
      "Sex     Survived\n",
      "female  0            81\n",
      "        1           233\n",
      "male    0           468\n",
      "        1           109\n",
      "Name: Sex, dtype: int64\n",
      "Axes(0.125,0.125;0.775x0.775)\n"
     ]
    },
    {
     "data": {
      "image/png": "[encoded data removed]",
      "text/plain": [
       "<matplotlib.figure.Figure at 0xc137f60>"
      ]
     },
     "metadata": {},
     "output_type": "display_data"
    }
   ],
   "source": [
    "#getting survived and non_survived female and male counts and plotting their bar graph.\n",
    "print titanic_df.groupby(['Sex','Survived'])['Sex'].count()\n",
    "print titanic_df.groupby(['Sex','Survived'])['Sex'].count().plot.bar(color=['red','blue'])\n",
    "plt.ylabel('count')\n",
    "plt.xlabel('gender')\n",
    "plt.title('Bar graph of survived and non-survied males & females')\n",
    "x=[0.5,2.5]\n",
    "#labels=['female non-survived','female survived','male non-survived','male survived']\n",
    "labels=['female','male']\n",
    "plt.xticks(x,labels,rotation='horizontal',fontsize=16)\n",
    "red_patch = mpatches.Patch(color='red', label='non_survivors')\n",
    "blue_patch = mpatches.Patch(color='blue', label='survivors')\n",
    "plt.legend(handles=[red_patch,blue_patch])\n",
    "plt.show()\n"
   ]
  },
  {
   "cell_type": "markdown",
   "metadata": {},
   "source": [
    "From the above bar plot it appears that number of females survived(233) was more than number of males survived(109). Whereas, number of females that did not survived(81) was less than the number of males that did not survived(468).\n",
    "We can see that about 74% of the females survived wheres only 19% of the males survived.\n",
    "\n",
    "Did it happen by chance that more females survived than males or gender played an role in survival?\n"
   ]
  },
  {
   "cell_type": "code",
   "execution_count": 98,
   "metadata": {
    "collapsed": false
   },
   "outputs": [
    {
     "data": {
      "text/plain": [
       "Sex          \n",
       "female  count    314.000000\n",
       "        mean       0.742038\n",
       "        std        0.438211\n",
       "        min        0.000000\n",
       "        25%        0.000000\n",
       "        50%        1.000000\n",
       "        75%        1.000000\n",
       "        max        1.000000\n",
       "male    count    577.000000\n",
       "        mean       0.188908\n",
       "        std        0.391775\n",
       "        min        0.000000\n",
       "        25%        0.000000\n",
       "        50%        0.000000\n",
       "        75%        0.000000\n",
       "        max        1.000000\n",
       "Name: Survived, dtype: float64"
      ]
     },
     "execution_count": 98,
     "metadata": {},
     "output_type": "execute_result"
    }
   ],
   "source": [
    "titanic_df.groupby(['Sex',])['Survived'].describe()"
   ]
  },
  {
   "cell_type": "markdown",
   "metadata": {},
   "source": [
    "For this, we need to perform hypothesis testing on whether gender plays a role in survival of the passengers.\n",
    "Here, we have proportions of survived passengers i.e. survived females and survived males. Therefore, we could  perform Z test for comparing two proportions.\n",
    "\n",
    "The null hypothesis of this z test would be that there is no significant difference in survival proportions of females and males.\n",
    "\n",
    "H0: prop_survived_female - prop_survived_male = 0\n",
    "\n",
    "and alternate hypothesis would be that there is significant difference in survival proportions of females and males.\n",
    "\n",
    "HA: prop_survived_female - prop_survived_male  ≠ 0\n",
    "\n",
    "Also for alternate hypthesis, we aren't specifying which gender has more chance of survival.So, it is a non-directional test. \n"
   ]
  },
  {
   "cell_type": "code",
   "execution_count": 99,
   "metadata": {
    "collapsed": false
   },
   "outputs": [],
   "source": [
    "# function for Z-test for comparing two proportions: \n",
    "\n",
    "def z_test_two_proportions(var1,var2,data1,data2):\n",
    "    prop_var1 = data1.count()[var1]/np.float(data2.count()[var1])\n",
    "    prop_var2 = data1.count()[var2]/np.float(data2.count()[var2])\n",
    "    prop_combined_var1_var2=(data1.count()[var1] + np.float(data1.count()[var2]))/(data2.count()[var1] + np.float(data2.count()[var2]))\n",
    "   \n",
    "    count_var1 = data2.count()[var1]\n",
    "    count_var2 = data2.count()[var2]\n",
    "      \n",
    "    std_error = np.sqrt((prop_combined_var1_var2*(1-prop_combined_var1_var2)*((1/np.float(count_var1)) + (1/np.float(count_var2)))))\n",
    "    \n",
    "    z_value = (prop_var1 - prop_var2) / std_error\n",
    "    \n",
    "    return z_value"
   ]
  },
  {
   "cell_type": "code",
   "execution_count": 100,
   "metadata": {
    "collapsed": false
   },
   "outputs": [
    {
     "name": "stdout",
     "output_type": "stream",
     "text": [
      "z value is\n",
      "16.2188339307\n"
     ]
    }
   ],
   "source": [
    "#Calculating Z_value for two proportions of samples by calling the function z_test_two_proportions()\n",
    "\n",
    "print 'z value is'\n",
    "print z_test_two_proportions('female','male',survived_data.groupby(['Sex'])['Survived'],titanic_df.groupby(['Sex'])['Survived'])"
   ]
  },
  {
   "cell_type": "markdown",
   "metadata": {},
   "source": [
    "Now, for 95% confidence interval, our alpha level is 0.5 for 2 tailed test. So, our Z_critical value for alpha level of 0.25 in each tail is ±1.96 using the z-table here: http://www.stat.ufl.edu/~athienit/Tables/Ztable.pdf\n",
    "\n",
    "Our z_value of 16.21 is way above the z_critical value.The two-tailed P value is less than 0.0001 . By conventional criteria, this difference is considered to be extremely statistically significant.Therefore, we would reject the null hypothesis in favour of the alternate and therefore, we can say with 95% confidence (based on our alpha level of .05) that there is a significant difference between survival proportions of females and male. So, gender made a difference in survival. (And in this case, since z_value is positive, a person was more likely to survive as a female than as a male. In this case, the reason could be that during the time of disaster, women and child were of first priority to make them safe). \n",
    "\n"
   ]
  },
  {
   "cell_type": "markdown",
   "metadata": {},
   "source": [
    "# Does Pclass had any affect on survival?"
   ]
  },
  {
   "cell_type": "code",
   "execution_count": 101,
   "metadata": {
    "collapsed": false
   },
   "outputs": [
    {
     "data": {
      "text/html": [
       "<div>\n",
       "<table border=\"1\" class=\"dataframe\">\n",
       "  <thead>\n",
       "    <tr style=\"text-align: right;\">\n",
       "      <th></th>\n",
       "      <th></th>\n",
       "      <th>PassengerId</th>\n",
       "      <th>Name</th>\n",
       "      <th>Sex</th>\n",
       "      <th>Age</th>\n",
       "      <th>SibSp</th>\n",
       "      <th>Parch</th>\n",
       "      <th>Ticket</th>\n",
       "      <th>Fare</th>\n",
       "      <th>Cabin</th>\n",
       "      <th>Embarked</th>\n",
       "    </tr>\n",
       "    <tr>\n",
       "      <th>Pclass</th>\n",
       "      <th>Survived</th>\n",
       "      <th></th>\n",
       "      <th></th>\n",
       "      <th></th>\n",
       "      <th></th>\n",
       "      <th></th>\n",
       "      <th></th>\n",
       "      <th></th>\n",
       "      <th></th>\n",
       "      <th></th>\n",
       "      <th></th>\n",
       "    </tr>\n",
       "  </thead>\n",
       "  <tbody>\n",
       "    <tr>\n",
       "      <th rowspan=\"2\" valign=\"top\">1</th>\n",
       "      <th>0</th>\n",
       "      <td>80</td>\n",
       "      <td>80</td>\n",
       "      <td>80</td>\n",
       "      <td>64</td>\n",
       "      <td>80</td>\n",
       "      <td>80</td>\n",
       "      <td>80</td>\n",
       "      <td>80</td>\n",
       "      <td>59</td>\n",
       "      <td>80</td>\n",
       "    </tr>\n",
       "    <tr>\n",
       "      <th>1</th>\n",
       "      <td>136</td>\n",
       "      <td>136</td>\n",
       "      <td>136</td>\n",
       "      <td>122</td>\n",
       "      <td>136</td>\n",
       "      <td>136</td>\n",
       "      <td>136</td>\n",
       "      <td>136</td>\n",
       "      <td>117</td>\n",
       "      <td>136</td>\n",
       "    </tr>\n",
       "    <tr>\n",
       "      <th rowspan=\"2\" valign=\"top\">2</th>\n",
       "      <th>0</th>\n",
       "      <td>97</td>\n",
       "      <td>97</td>\n",
       "      <td>97</td>\n",
       "      <td>90</td>\n",
       "      <td>97</td>\n",
       "      <td>97</td>\n",
       "      <td>97</td>\n",
       "      <td>97</td>\n",
       "      <td>3</td>\n",
       "      <td>97</td>\n",
       "    </tr>\n",
       "    <tr>\n",
       "      <th>1</th>\n",
       "      <td>87</td>\n",
       "      <td>87</td>\n",
       "      <td>87</td>\n",
       "      <td>83</td>\n",
       "      <td>87</td>\n",
       "      <td>87</td>\n",
       "      <td>87</td>\n",
       "      <td>87</td>\n",
       "      <td>13</td>\n",
       "      <td>87</td>\n",
       "    </tr>\n",
       "    <tr>\n",
       "      <th rowspan=\"2\" valign=\"top\">3</th>\n",
       "      <th>0</th>\n",
       "      <td>372</td>\n",
       "      <td>372</td>\n",
       "      <td>372</td>\n",
       "      <td>270</td>\n",
       "      <td>372</td>\n",
       "      <td>372</td>\n",
       "      <td>372</td>\n",
       "      <td>372</td>\n",
       "      <td>6</td>\n",
       "      <td>372</td>\n",
       "    </tr>\n",
       "    <tr>\n",
       "      <th>1</th>\n",
       "      <td>119</td>\n",
       "      <td>119</td>\n",
       "      <td>119</td>\n",
       "      <td>85</td>\n",
       "      <td>119</td>\n",
       "      <td>119</td>\n",
       "      <td>119</td>\n",
       "      <td>119</td>\n",
       "      <td>6</td>\n",
       "      <td>119</td>\n",
       "    </tr>\n",
       "  </tbody>\n",
       "</table>\n",
       "</div>"
      ],
      "text/plain": [
       "                 PassengerId  Name  Sex  Age  SibSp  Parch  Ticket  Fare  \\\n",
       "Pclass Survived                                                            \n",
       "1      0                  80    80   80   64     80     80      80    80   \n",
       "       1                 136   136  136  122    136    136     136   136   \n",
       "2      0                  97    97   97   90     97     97      97    97   \n",
       "       1                  87    87   87   83     87     87      87    87   \n",
       "3      0                 372   372  372  270    372    372     372   372   \n",
       "       1                 119   119  119   85    119    119     119   119   \n",
       "\n",
       "                 Cabin  Embarked  \n",
       "Pclass Survived                   \n",
       "1      0            59        80  \n",
       "       1           117       136  \n",
       "2      0             3        97  \n",
       "       1            13        87  \n",
       "3      0             6       372  \n",
       "       1             6       119  "
      ]
     },
     "execution_count": 101,
     "metadata": {},
     "output_type": "execute_result"
    }
   ],
   "source": [
    "titanic_df.groupby(['Pclass','Survived']).count()"
   ]
  },
  {
   "cell_type": "code",
   "execution_count": 102,
   "metadata": {
    "collapsed": false
   },
   "outputs": [
    {
     "name": "stdout",
     "output_type": "stream",
     "text": [
      "total number of passengers: 891\n",
      "\n",
      "\n",
      "Count of each Pclass\n",
      "Pclass\n",
      "1    216\n",
      "2    184\n",
      "3    491\n",
      "Name: Survived, dtype: int64\n"
     ]
    },
    {
     "data": {
      "text/plain": [
       "<matplotlib.text.Text at 0xbdbc7f0>"
      ]
     },
     "execution_count": 102,
     "metadata": {},
     "output_type": "execute_result"
    },
    {
     "data": {
      "image/png": "[encoded data removed]",
      "text/plain": [
       "<matplotlib.figure.Figure at 0xc223a58>"
      ]
     },
     "metadata": {},
     "output_type": "display_data"
    }
   ],
   "source": [
    "titanic_df.groupby('Pclass').count()['Survived'].plot.pie(labels =('First Class', 'Second Class', 'Third Class'),colors=('blue','green','red'),autopct='%1.1f%%')\n",
    "print 'total number of passengers: {}'.format(titanic_df['Survived'].count())\n",
    "print '\\n'\n",
    "print 'Count of each Pclass'\n",
    "print titanic_df.groupby('Pclass').count()['Survived']\n",
    "plt.title('Total passengers travelling')\n",
    "plt.ylabel('')"
   ]
  },
  {
   "cell_type": "markdown",
   "metadata": {},
   "source": [
    "As seen from above pie chart, out of 891 passengers\n"
   ]
  },
  {
   "cell_type": "markdown",
   "metadata": {},
   "source": [
    "i) 216 were travelling in 1st class.\n"
   ]
  },
  {
   "cell_type": "markdown",
   "metadata": {},
   "source": [
    "ii) 184 were travelling in 2nd class.\n"
   ]
  },
  {
   "cell_type": "markdown",
   "metadata": {},
   "source": [
    "iii) 491 were travelling in 3rd class.\n",
    "\n",
    "It can be observed, maximum passengers were of Pclass 3."
   ]
  },
  {
   "cell_type": "code",
   "execution_count": 103,
   "metadata": {
    "collapsed": false
   },
   "outputs": [
    {
     "name": "stdout",
     "output_type": "stream",
     "text": [
      "total number of survived passenger: 342\n",
      "\n",
      "\n",
      "Pclass\n",
      "1    136\n",
      "2     87\n",
      "3    119\n",
      "Name: Survived, dtype: int64\n"
     ]
    },
    {
     "data": {
      "text/plain": [
       "<matplotlib.text.Text at 0xb79fd30>"
      ]
     },
     "execution_count": 103,
     "metadata": {},
     "output_type": "execute_result"
    },
    {
     "data": {
      "image/png": "[encoded data removed]",
      "text/plain": [
       "<matplotlib.figure.Figure at 0xb45f6d8>"
      ]
     },
     "metadata": {},
     "output_type": "display_data"
    }
   ],
   "source": [
    "#Getting info with Survived_data\n",
    "\n",
    "survived_data.groupby('Pclass').count()['Survived'].plot.pie(labels=('First Class', 'Second Class', 'Third Class'),colors=('blue','green','red'),autopct='%1.1f%%')\n",
    "print 'total number of survived passenger: {}'.format(survived_data['Survived'].count())\n",
    "print '\\n'\n",
    "print survived_data.groupby('Pclass').count()['Survived']\n",
    "plt.title('survived Passengers by Pclass')\n",
    "plt.ylabel('')"
   ]
  },
  {
   "cell_type": "markdown",
   "metadata": {},
   "source": [
    "From the above plot, it can be observed that maximum number of First class passenegers survived i.e. 136."
   ]
  },
  {
   "cell_type": "code",
   "execution_count": 104,
   "metadata": {
    "collapsed": false
   },
   "outputs": [
    {
     "name": "stdout",
     "output_type": "stream",
     "text": [
      "total number of non_survived passenger: 549\n",
      "\n",
      "\n",
      "Pclass\n",
      "1     80\n",
      "2     97\n",
      "3    372\n",
      "Name: Survived, dtype: int64\n"
     ]
    },
    {
     "data": {
      "text/plain": [
       "<matplotlib.text.Text at 0xc319780>"
      ]
     },
     "execution_count": 104,
     "metadata": {},
     "output_type": "execute_result"
    },
    {
     "data": {
      "image/png": "[encoded data removed]",
      "text/plain": [
       "<matplotlib.figure.Figure at 0xb8cecc0>"
      ]
     },
     "metadata": {},
     "output_type": "display_data"
    }
   ],
   "source": [
    "#Getting info with non_survived_data\n",
    "\n",
    "non_survived_data.groupby('Pclass').count()['Survived'].plot.pie(labels=('First Class', 'Second Class', 'Third Class'),colors=('blue','green','red'),autopct='%1.1f%%')\n",
    "print 'total number of non_survived passenger: {}'.format(non_survived_data['Survived'].count())\n",
    "print '\\n'\n",
    "print non_survived_data.groupby('Pclass').count()['Survived']\n",
    "plt.title('non_survived Passengers by Pclass')\n",
    "plt.ylabel('')"
   ]
  },
  {
   "cell_type": "markdown",
   "metadata": {},
   "source": [
    "It can be observed from the above plot that maximum number of 3rd class passengers didn't survived i.e. 372"
   ]
  },
  {
   "cell_type": "code",
   "execution_count": 105,
   "metadata": {
    "collapsed": false
   },
   "outputs": [
    {
     "data": {
      "text/plain": [
       "Pclass\n",
       "1    62.962963\n",
       "2    47.282609\n",
       "3    24.236253\n",
       "Name: Survived, dtype: float64"
      ]
     },
     "execution_count": 105,
     "metadata": {},
     "output_type": "execute_result"
    }
   ],
   "source": [
    "#Survival rate within each group\n",
    "\n",
    "(survived_data.groupby('Pclass').count()['Survived']/titanic_df.groupby('Pclass').count()['Survived'])*100\n"
   ]
  },
  {
   "cell_type": "markdown",
   "metadata": {},
   "source": [
    "From the above cell, it can be observed that the maximum suvival rate among all 3 groups was of 1st class passengers."
   ]
  },
  {
   "cell_type": "code",
   "execution_count": 106,
   "metadata": {
    "collapsed": false
   },
   "outputs": [
    {
     "data": {
      "text/html": [
       "<div>\n",
       "<table border=\"1\" class=\"dataframe\">\n",
       "  <thead>\n",
       "    <tr style=\"text-align: right;\">\n",
       "      <th></th>\n",
       "      <th></th>\n",
       "      <th></th>\n",
       "      <th>PassengerId</th>\n",
       "      <th>Name</th>\n",
       "      <th>Age</th>\n",
       "      <th>SibSp</th>\n",
       "      <th>Parch</th>\n",
       "      <th>Ticket</th>\n",
       "      <th>Fare</th>\n",
       "      <th>Cabin</th>\n",
       "      <th>Embarked</th>\n",
       "    </tr>\n",
       "    <tr>\n",
       "      <th>Pclass</th>\n",
       "      <th>Sex</th>\n",
       "      <th>Survived</th>\n",
       "      <th></th>\n",
       "      <th></th>\n",
       "      <th></th>\n",
       "      <th></th>\n",
       "      <th></th>\n",
       "      <th></th>\n",
       "      <th></th>\n",
       "      <th></th>\n",
       "      <th></th>\n",
       "    </tr>\n",
       "  </thead>\n",
       "  <tbody>\n",
       "    <tr>\n",
       "      <th rowspan=\"4\" valign=\"top\">1</th>\n",
       "      <th rowspan=\"2\" valign=\"top\">female</th>\n",
       "      <th>0</th>\n",
       "      <td>3</td>\n",
       "      <td>3</td>\n",
       "      <td>3</td>\n",
       "      <td>3</td>\n",
       "      <td>3</td>\n",
       "      <td>3</td>\n",
       "      <td>3</td>\n",
       "      <td>3</td>\n",
       "      <td>3</td>\n",
       "    </tr>\n",
       "    <tr>\n",
       "      <th>1</th>\n",
       "      <td>91</td>\n",
       "      <td>91</td>\n",
       "      <td>82</td>\n",
       "      <td>91</td>\n",
       "      <td>91</td>\n",
       "      <td>91</td>\n",
       "      <td>91</td>\n",
       "      <td>78</td>\n",
       "      <td>91</td>\n",
       "    </tr>\n",
       "    <tr>\n",
       "      <th rowspan=\"2\" valign=\"top\">male</th>\n",
       "      <th>0</th>\n",
       "      <td>77</td>\n",
       "      <td>77</td>\n",
       "      <td>61</td>\n",
       "      <td>77</td>\n",
       "      <td>77</td>\n",
       "      <td>77</td>\n",
       "      <td>77</td>\n",
       "      <td>56</td>\n",
       "      <td>77</td>\n",
       "    </tr>\n",
       "    <tr>\n",
       "      <th>1</th>\n",
       "      <td>45</td>\n",
       "      <td>45</td>\n",
       "      <td>40</td>\n",
       "      <td>45</td>\n",
       "      <td>45</td>\n",
       "      <td>45</td>\n",
       "      <td>45</td>\n",
       "      <td>39</td>\n",
       "      <td>45</td>\n",
       "    </tr>\n",
       "    <tr>\n",
       "      <th rowspan=\"4\" valign=\"top\">2</th>\n",
       "      <th rowspan=\"2\" valign=\"top\">female</th>\n",
       "      <th>0</th>\n",
       "      <td>6</td>\n",
       "      <td>6</td>\n",
       "      <td>6</td>\n",
       "      <td>6</td>\n",
       "      <td>6</td>\n",
       "      <td>6</td>\n",
       "      <td>6</td>\n",
       "      <td>1</td>\n",
       "      <td>6</td>\n",
       "    </tr>\n",
       "    <tr>\n",
       "      <th>1</th>\n",
       "      <td>70</td>\n",
       "      <td>70</td>\n",
       "      <td>68</td>\n",
       "      <td>70</td>\n",
       "      <td>70</td>\n",
       "      <td>70</td>\n",
       "      <td>70</td>\n",
       "      <td>9</td>\n",
       "      <td>70</td>\n",
       "    </tr>\n",
       "    <tr>\n",
       "      <th rowspan=\"2\" valign=\"top\">male</th>\n",
       "      <th>0</th>\n",
       "      <td>91</td>\n",
       "      <td>91</td>\n",
       "      <td>84</td>\n",
       "      <td>91</td>\n",
       "      <td>91</td>\n",
       "      <td>91</td>\n",
       "      <td>91</td>\n",
       "      <td>2</td>\n",
       "      <td>91</td>\n",
       "    </tr>\n",
       "    <tr>\n",
       "      <th>1</th>\n",
       "      <td>17</td>\n",
       "      <td>17</td>\n",
       "      <td>15</td>\n",
       "      <td>17</td>\n",
       "      <td>17</td>\n",
       "      <td>17</td>\n",
       "      <td>17</td>\n",
       "      <td>4</td>\n",
       "      <td>17</td>\n",
       "    </tr>\n",
       "    <tr>\n",
       "      <th rowspan=\"4\" valign=\"top\">3</th>\n",
       "      <th rowspan=\"2\" valign=\"top\">female</th>\n",
       "      <th>0</th>\n",
       "      <td>72</td>\n",
       "      <td>72</td>\n",
       "      <td>55</td>\n",
       "      <td>72</td>\n",
       "      <td>72</td>\n",
       "      <td>72</td>\n",
       "      <td>72</td>\n",
       "      <td>2</td>\n",
       "      <td>72</td>\n",
       "    </tr>\n",
       "    <tr>\n",
       "      <th>1</th>\n",
       "      <td>72</td>\n",
       "      <td>72</td>\n",
       "      <td>47</td>\n",
       "      <td>72</td>\n",
       "      <td>72</td>\n",
       "      <td>72</td>\n",
       "      <td>72</td>\n",
       "      <td>4</td>\n",
       "      <td>72</td>\n",
       "    </tr>\n",
       "    <tr>\n",
       "      <th rowspan=\"2\" valign=\"top\">male</th>\n",
       "      <th>0</th>\n",
       "      <td>300</td>\n",
       "      <td>300</td>\n",
       "      <td>215</td>\n",
       "      <td>300</td>\n",
       "      <td>300</td>\n",
       "      <td>300</td>\n",
       "      <td>300</td>\n",
       "      <td>4</td>\n",
       "      <td>300</td>\n",
       "    </tr>\n",
       "    <tr>\n",
       "      <th>1</th>\n",
       "      <td>47</td>\n",
       "      <td>47</td>\n",
       "      <td>38</td>\n",
       "      <td>47</td>\n",
       "      <td>47</td>\n",
       "      <td>47</td>\n",
       "      <td>47</td>\n",
       "      <td>2</td>\n",
       "      <td>47</td>\n",
       "    </tr>\n",
       "  </tbody>\n",
       "</table>\n",
       "</div>"
      ],
      "text/plain": [
       "                        PassengerId  Name  Age  SibSp  Parch  Ticket  Fare  \\\n",
       "Pclass Sex    Survived                                                       \n",
       "1      female 0                   3     3    3      3      3       3     3   \n",
       "              1                  91    91   82     91     91      91    91   \n",
       "       male   0                  77    77   61     77     77      77    77   \n",
       "              1                  45    45   40     45     45      45    45   \n",
       "2      female 0                   6     6    6      6      6       6     6   \n",
       "              1                  70    70   68     70     70      70    70   \n",
       "       male   0                  91    91   84     91     91      91    91   \n",
       "              1                  17    17   15     17     17      17    17   \n",
       "3      female 0                  72    72   55     72     72      72    72   \n",
       "              1                  72    72   47     72     72      72    72   \n",
       "       male   0                 300   300  215    300    300     300   300   \n",
       "              1                  47    47   38     47     47      47    47   \n",
       "\n",
       "                        Cabin  Embarked  \n",
       "Pclass Sex    Survived                   \n",
       "1      female 0             3         3  \n",
       "              1            78        91  \n",
       "       male   0            56        77  \n",
       "              1            39        45  \n",
       "2      female 0             1         6  \n",
       "              1             9        70  \n",
       "       male   0             2        91  \n",
       "              1             4        17  \n",
       "3      female 0             2        72  \n",
       "              1             4        72  \n",
       "       male   0             4       300  \n",
       "              1             2        47  "
      ]
     },
     "execution_count": 106,
     "metadata": {},
     "output_type": "execute_result"
    }
   ],
   "source": [
    "titanic_df.groupby(['Pclass','Sex','Survived']).count()"
   ]
  },
  {
   "cell_type": "code",
   "execution_count": 107,
   "metadata": {
    "collapsed": false
   },
   "outputs": [
    {
     "data": {
      "image/png": "[encoded data removed]",
      "text/plain": [
       "<matplotlib.figure.Figure at 0x9429128>"
      ]
     },
     "metadata": {},
     "output_type": "display_data"
    }
   ],
   "source": [
    "#Grouping the data by Pclass, Sex & Survived and taking a look at count.\n",
    "\n",
    "titanic_df.groupby(['Pclass','Sex','Survived']).count()['PassengerId'].plot.bar(color=('red','blue','green','yellow'))\n",
    "plt.ylabel('counts')\n",
    "plt.title('Survival & Non-Survival by Pclass,Sex')\n",
    "x=[1.5,5.5,9.5]\n",
    "#labels=['1st class female non_survivors','1st class female survivors','1st class male non_survivors','1st class male survivors','2nd class female non_survivors','2nd class female survivors','2nd male non_survivors','2nd class male survivors','3rd class female non_survivors','3rd class female survivors','3rd class male non_survivors','3rd class male survivors']\n",
    "labels=['First Class','Second Class','Third Class']\n",
    "plt.xticks(x,labels,rotation='horizontal',fontsize=16)\n",
    "red_patch = mpatches.Patch(color='red', label='female non_survivors')\n",
    "blue_patch = mpatches.Patch(color='blue', label='female survivors')\n",
    "green_patch = mpatches.Patch(color='green', label='male non_survivors')\n",
    "yellow_patch = mpatches.Patch(color='yellow', label='male survivors')\n",
    "plt.legend(handles=[red_patch,blue_patch,green_patch,yellow_patch],loc='best')\n",
    "plt.show()"
   ]
  },
  {
   "cell_type": "markdown",
   "metadata": {},
   "source": [
    "From the above bar graph, it appears that\n"
   ]
  },
  {
   "cell_type": "markdown",
   "metadata": {},
   "source": [
    "i) the highest bar is of (3rd class male non_survivors) i.e. there was maximum number of male passengers of 3rd class which didn't survive."
   ]
  },
  {
   "cell_type": "markdown",
   "metadata": {},
   "source": [
    "ii) the lowest bar is of (1st class female non_survivors) i.e. there was minimum number of female passengers of 1st class which didn't survive.\n"
   ]
  },
  {
   "cell_type": "markdown",
   "metadata": {},
   "source": [
    "iii) Also, for survived passengers, bar (1st class female survivors) is highest which means female passengers of 1st class survived the most."
   ]
  },
  {
   "cell_type": "markdown",
   "metadata": {},
   "source": [
    "iv) non-survival count of female & male increases as the Pclass category decreased. So, first preference were given to women & men of first class. See the pattern of red bars i.e. (1st class, 2nd class and 3rd class female non_survivors),. Similarly, see the pattern for green bars i.e. (1st class, 2nd class and 3rd class male non_survivors).\n"
   ]
  },
  {
   "cell_type": "markdown",
   "metadata": {},
   "source": [
    "v) Though, distribution of survivors among female passengers across all 3 Pclass appears to be approx. same (see all the blue bars) but if we look at the female survivors within each Pclass(see red bar and blue bar as a set together), you would find that the difference between female survivors and female non-survivors increases rapidly as we increase the Pclass.So, most of the women from 1st class survived."
   ]
  },
  {
   "cell_type": "markdown",
   "metadata": {},
   "source": [
    "vi) Also, see the (green bar and yellow bar together), you would found the difference between male non-survivors and male survivors increases as we lower down the Pclass. So, most of the men from 3rd class didn't survived."
   ]
  },
  {
   "cell_type": "markdown",
   "metadata": {},
   "source": [
    "vii) Also, if you see all the blue bars i.e. (female survivors), the number of female passengers survived in each group was almost same."
   ]
  },
  {
   "cell_type": "markdown",
   "metadata": {},
   "source": [
    "# Does Embarked Station had any affect on survival?"
   ]
  },
  {
   "cell_type": "code",
   "execution_count": 108,
   "metadata": {
    "collapsed": true
   },
   "outputs": [],
   "source": [
    "#Defining function bar_plot_for_embarked for plotting bar graph for total passengers, survivors and non_survivors\n",
    "def bar_plot_for_embarked(data,title,xlabel,ylabel):\n",
    "    data.plot.bar(color=['Blue','Red','Green'])\n",
    "    plt.title(title)\n",
    "    plt.xlabel(xlabel)\n",
    "    plt.ylabel(ylabel)\n",
    "    x=[0,1,2]\n",
    "    labels=['Cherbourg','Queenstown','Southampton']\n",
    "    plt.xticks(x,labels,rotation='horizontal')\n",
    "    red_patch = mpatches.Patch(color='red', label='Queenstown')\n",
    "    blue_patch = mpatches.Patch(color='blue', label='Cherbourg')\n",
    "    green_patch = mpatches.Patch(color='green', label='Southampton')\n",
    "    plt.legend(handles=[blue_patch,red_patch,green_patch],loc='best')\n",
    "    plt.show()"
   ]
  },
  {
   "cell_type": "code",
   "execution_count": 109,
   "metadata": {
    "collapsed": false
   },
   "outputs": [
    {
     "data": {
      "text/plain": [
       "Embarked\n",
       "C    168\n",
       "Q     77\n",
       "S    646\n",
       "Name: PassengerId, dtype: int64"
      ]
     },
     "execution_count": 109,
     "metadata": {},
     "output_type": "execute_result"
    }
   ],
   "source": [
    "#Number of passengers boarded from each Embarked Station\n",
    "titanic_df.groupby('Embarked').count()['PassengerId']"
   ]
  },
  {
   "cell_type": "code",
   "execution_count": 110,
   "metadata": {
    "collapsed": false
   },
   "outputs": [
    {
     "data": {
      "image/png": "[encoded data removed]",
      "text/plain": [
       "<matplotlib.figure.Figure at 0x9349c50>"
      ]
     },
     "metadata": {},
     "output_type": "display_data"
    }
   ],
   "source": [
    "#Bar plot of passengers boarded from each Embarked station\n",
    "\n",
    "bar_plot_for_embarked(titanic_df.groupby('Embarked').count()['PassengerId'],'Total number of passengers from Embarked Stations','Embarked Stations','count')"
   ]
  },
  {
   "cell_type": "markdown",
   "metadata": {},
   "source": [
    "From the above data and bar plot - "
   ]
  },
  {
   "cell_type": "markdown",
   "metadata": {},
   "source": [
    "168 passengers boarded from Cherbourg."
   ]
  },
  {
   "cell_type": "markdown",
   "metadata": {},
   "source": [
    "77 passengers boarded from Queenstown."
   ]
  },
  {
   "cell_type": "markdown",
   "metadata": {},
   "source": [
    "646 passengers boarded from Southampton."
   ]
  },
  {
   "cell_type": "markdown",
   "metadata": {},
   "source": [
    "Most passengers embarked from Southampton"
   ]
  },
  {
   "cell_type": "code",
   "execution_count": 111,
   "metadata": {
    "collapsed": false
   },
   "outputs": [
    {
     "name": "stdout",
     "output_type": "stream",
     "text": [
      "survived passengers for Embarked Stations\n",
      "Embarked\n",
      "C     93\n",
      "Q     30\n",
      "S    219\n",
      "Name: Survived, dtype: int64\n"
     ]
    }
   ],
   "source": [
    "#count of survived passengers form Embarked stations\n",
    "\n",
    "print 'survived passengers for Embarked Stations'\n",
    "print survived_data.groupby('Embarked').count()['Survived']"
   ]
  },
  {
   "cell_type": "code",
   "execution_count": 112,
   "metadata": {
    "collapsed": false
   },
   "outputs": [
    {
     "data": {
      "image/png": "[encoded data removed]",
      "text/plain": [
       "<matplotlib.figure.Figure at 0xceefc18>"
      ]
     },
     "metadata": {},
     "output_type": "display_data"
    }
   ],
   "source": [
    "#Bar plot - count of survived passengers form Embarked stations\n",
    "bar_plot_for_embarked(survived_data.groupby(['Embarked','Survived']).count()['PassengerId'],'survival counts for Embarked Stations','Embarked Survivors','count')"
   ]
  },
  {
   "cell_type": "code",
   "execution_count": 113,
   "metadata": {
    "collapsed": false
   },
   "outputs": [
    {
     "name": "stdout",
     "output_type": "stream",
     "text": [
      "non_survived passengers for Embarked Stations\n",
      "Embarked\n",
      "C     75\n",
      "Q     47\n",
      "S    427\n",
      "Name: Survived, dtype: int64\n"
     ]
    }
   ],
   "source": [
    "#count of non_survived passengers form Embarked stations\n",
    "\n",
    "print 'non_survived passengers for Embarked Stations'\n",
    "print non_survived_data.groupby('Embarked').count()['Survived']"
   ]
  },
  {
   "cell_type": "code",
   "execution_count": 114,
   "metadata": {
    "collapsed": false
   },
   "outputs": [
    {
     "data": {
      "image/png": "[encoded data removed]",
      "text/plain": [
       "<matplotlib.figure.Figure at 0xb712240>"
      ]
     },
     "metadata": {},
     "output_type": "display_data"
    }
   ],
   "source": [
    "#Bar plot - count of non_survived passengers form Embarked stations\n",
    "\n",
    "bar_plot_for_embarked(non_survived_data.groupby(['Embarked','Survived']).count()['PassengerId'],'non_survival counts for Embarked Stations','Embarked non_survivors','count')"
   ]
  },
  {
   "cell_type": "markdown",
   "metadata": {},
   "source": [
    "The above 2 bar plots appears exactly same for survived and non-survived passengers from each of the embarked stations. "
   ]
  },
  {
   "cell_type": "code",
   "execution_count": 115,
   "metadata": {
    "collapsed": false
   },
   "outputs": [
    {
     "data": {
      "text/plain": [
       "Embarked\n",
       "C    55.357143\n",
       "Q    38.961039\n",
       "S    33.900929\n",
       "Name: Survived, dtype: float64"
      ]
     },
     "execution_count": 115,
     "metadata": {},
     "output_type": "execute_result"
    }
   ],
   "source": [
    "# Survival rate of passengers from each Embarked stations\n",
    "\n",
    "(survived_data.groupby('Embarked').count()['Survived']/titanic_df.groupby('Embarked').count()['Survived'])*100"
   ]
  },
  {
   "cell_type": "markdown",
   "metadata": {},
   "source": [
    "Well, the survival rate of passengers onboarded from Cherbourg is higher than passengers boarded from Queenstown & Southampton.\n",
    "\n",
    "So, is the survival rate of passengers onboarded from Cherbourg more due to random chane or is there something affecting it. We need to find out that is the survival rate difference between Cherbourg and (Queenstown & Southampton) significant or not?"
   ]
  },
  {
   "cell_type": "code",
   "execution_count": 116,
   "metadata": {
    "collapsed": false
   },
   "outputs": [
    {
     "data": {
      "text/plain": [
       "Embarked\n",
       "C    0.553571\n",
       "Q    0.389610\n",
       "S    0.339009\n",
       "Name: Survived, dtype: float64"
      ]
     },
     "execution_count": 116,
     "metadata": {},
     "output_type": "execute_result"
    }
   ],
   "source": [
    "# Mean survived passengers per Embarked station\n",
    "\n",
    "titanic_df.groupby('Embarked').mean()['Survived']"
   ]
  },
  {
   "cell_type": "code",
   "execution_count": 117,
   "metadata": {
    "collapsed": false,
    "scrolled": true
   },
   "outputs": [
    {
     "data": {
      "text/plain": [
       "Embarked\n",
       "C    0.498608\n",
       "Q    0.490860\n",
       "S    0.473740\n",
       "Name: Survived, dtype: float64"
      ]
     },
     "execution_count": 117,
     "metadata": {},
     "output_type": "execute_result"
    }
   ],
   "source": [
    "# standard deviation of survived passenger per Embarked station\n",
    "\n",
    "titanic_df.groupby('Embarked').std()['Survived']"
   ]
  },
  {
   "cell_type": "markdown",
   "metadata": {},
   "source": [
    "Since the average survived passengers for Queenstown and Southampton is nearly same.In this case, if we look at mean, then it is actually equal to the proption of the survived passengers to the total passengers in that group. We can run a Z test for comparing two survived proportions on either pair of (Cherbourg and Queenstown) or (Cherbourg and Southampton). It would be a non-directional 2 tailed test.\n"
   ]
  },
  {
   "cell_type": "markdown",
   "metadata": {},
   "source": [
    "Let us run the Z test on proportion of (Cherbourg and Queenstown).\n",
    "Our null hypothesis would be that there is no significant difference in proportion of survived passengers of Cherbourg and Queenstown.\n",
    "\n",
    "H0: proportion_survived_Cherbourg - proportion_survived_Queenstown = 0\n",
    "\n",
    "and alternate hypothesis would be that there is a significant difference in proportion of survived passengers of Cherbourg and Queenstown. \n",
    "\n",
    "HA: proportion_survived_Cherbourg - proportion_survived_Queenstown ≠ 0\n",
    "\n"
   ]
  },
  {
   "cell_type": "code",
   "execution_count": 118,
   "metadata": {
    "collapsed": false
   },
   "outputs": [],
   "source": [
    "# function for Z-test for comparing two proportions: \n",
    "\n",
    "def z_test_two_proportions(var1,var2,data1,data2):\n",
    "    prop_var1 = data1.count()[var1]/np.float(data2.count()[var1])\n",
    "    prop_var2 = data1.count()[var2]/np.float(data2.count()[var2])\n",
    "    prop_combined_var1_var2=(data1.count()[var1] + np.float(data1.count()[var2]))/(data2.count()[var1] + np.float(data2.count()[var2]))\n",
    "   \n",
    "    count_var1 = data2.count()[var1]\n",
    "    count_var2 = data2.count()[var2]\n",
    "      \n",
    "    std_error = np.sqrt((prop_combined_var1_var2*(1-prop_combined_var1_var2)*((1/np.float(count_var1)) + (1/np.float(count_var2)))))\n",
    "    \n",
    "    z_value = (prop_var1 - prop_var2) / std_error\n",
    "    \n",
    "    return z_value\n"
   ]
  },
  {
   "cell_type": "code",
   "execution_count": 119,
   "metadata": {
    "collapsed": false
   },
   "outputs": [
    {
     "name": "stdout",
     "output_type": "stream",
     "text": [
      "z value is\n",
      "2.38281999745\n"
     ]
    }
   ],
   "source": [
    "#Calculating Z_value for two proportions of samples by calling the function z_test_two_proportions()\n",
    "\n",
    "print 'z value is'\n",
    "print z_test_two_proportions('C','Q',survived_data.groupby('Embarked')['Survived'],titanic_df.groupby('Embarked')['Survived'])"
   ]
  },
  {
   "cell_type": "markdown",
   "metadata": {},
   "source": [
    "Now, for 95% confidence interval, our alpha level is 0.5 for 2 tailed test. So, our Z_critical value for alpha level of  0.25 in each tail is ±1.96 using the z-table here: http://www.stat.ufl.edu/~athienit/Tables/Ztable.pdf\n",
    "\n",
    "Our z_value of 2.38 is above the z_critical value of 1.96.The two-tailed P value equals 0.0173 and is considered to be statistically significant at alpha level of 0.5 for 2 tailed test. Therefore, we would reject the null hypothesis in favour of the alternate and therefore, we can say with 95% confidence (based on our alpha level of .05) that there is a significant difference between two proportions of survived passengers of Cherbourg and Queenstown.So, passengers onboarded from Cherbourg had a better survival rate and difference in proportions didn't occured by random chance. (And in this case, reason could be the that more 1st class passengers embarked from Cherbourg).\n",
    "\n"
   ]
  },
  {
   "cell_type": "markdown",
   "metadata": {},
   "source": [
    "Lets find out the passenger's Pclass info for Embarked Station Cherbourg"
   ]
  },
  {
   "cell_type": "code",
   "execution_count": 120,
   "metadata": {
    "collapsed": false
   },
   "outputs": [
    {
     "data": {
      "text/html": [
       "<div>\n",
       "<table border=\"1\" class=\"dataframe\">\n",
       "  <thead>\n",
       "    <tr style=\"text-align: right;\">\n",
       "      <th></th>\n",
       "      <th>Survived</th>\n",
       "      <th>Pclass</th>\n",
       "      <th>Fare</th>\n",
       "    </tr>\n",
       "    <tr>\n",
       "      <th>Embarked</th>\n",
       "      <th></th>\n",
       "      <th></th>\n",
       "      <th></th>\n",
       "    </tr>\n",
       "  </thead>\n",
       "  <tbody>\n",
       "    <tr>\n",
       "      <th>C</th>\n",
       "      <td>0.553571</td>\n",
       "      <td>1.886905</td>\n",
       "      <td>59.954144</td>\n",
       "    </tr>\n",
       "    <tr>\n",
       "      <th>Q</th>\n",
       "      <td>0.389610</td>\n",
       "      <td>2.909091</td>\n",
       "      <td>13.276030</td>\n",
       "    </tr>\n",
       "    <tr>\n",
       "      <th>S</th>\n",
       "      <td>0.339009</td>\n",
       "      <td>2.346749</td>\n",
       "      <td>27.243651</td>\n",
       "    </tr>\n",
       "  </tbody>\n",
       "</table>\n",
       "</div>"
      ],
      "text/plain": [
       "          Survived    Pclass       Fare\n",
       "Embarked                               \n",
       "C         0.553571  1.886905  59.954144\n",
       "Q         0.389610  2.909091  13.276030\n",
       "S         0.339009  2.346749  27.243651"
      ]
     },
     "execution_count": 120,
     "metadata": {},
     "output_type": "execute_result"
    }
   ],
   "source": [
    "#Mean Pclass of passengers embarking from different stations.\n",
    "\n",
    "titanic_df.groupby('Embarked').mean()[['Survived','Pclass','Fare']]"
   ]
  },
  {
   "cell_type": "markdown",
   "metadata": {},
   "source": [
    "We can clearly see that the average Pclass value for Cherbourg is much less than average Pclass values for Queenstown and Southampton. Average Pclass value for Cherbourg is 1.88 i.e. mostly the passengers which emabrked form this station belonged to Rich class or Upple class and that is confirmed by the average fare price of 59.95 for each Cherbourg passenger which is almost more than double than the average fare prices for other embarked stations."
   ]
  },
  {
   "cell_type": "code",
   "execution_count": 121,
   "metadata": {
    "collapsed": false
   },
   "outputs": [
    {
     "data": {
      "text/html": [
       "<div>\n",
       "<table border=\"1\" class=\"dataframe\">\n",
       "  <thead>\n",
       "    <tr style=\"text-align: right;\">\n",
       "      <th></th>\n",
       "      <th></th>\n",
       "      <th>PassengerId</th>\n",
       "      <th>Survived</th>\n",
       "      <th>Pclass</th>\n",
       "      <th>Age</th>\n",
       "      <th>SibSp</th>\n",
       "      <th>Parch</th>\n",
       "      <th>Fare</th>\n",
       "    </tr>\n",
       "    <tr>\n",
       "      <th>Embarked</th>\n",
       "      <th>Sex</th>\n",
       "      <th></th>\n",
       "      <th></th>\n",
       "      <th></th>\n",
       "      <th></th>\n",
       "      <th></th>\n",
       "      <th></th>\n",
       "      <th></th>\n",
       "    </tr>\n",
       "  </thead>\n",
       "  <tbody>\n",
       "    <tr>\n",
       "      <th rowspan=\"2\" valign=\"top\">C</th>\n",
       "      <th>female</th>\n",
       "      <td>437.315068</td>\n",
       "      <td>0.876712</td>\n",
       "      <td>1.726027</td>\n",
       "      <td>28.344262</td>\n",
       "      <td>0.547945</td>\n",
       "      <td>0.493151</td>\n",
       "      <td>75.169805</td>\n",
       "    </tr>\n",
       "    <tr>\n",
       "      <th>male</th>\n",
       "      <td>451.536842</td>\n",
       "      <td>0.305263</td>\n",
       "      <td>2.010526</td>\n",
       "      <td>32.998841</td>\n",
       "      <td>0.263158</td>\n",
       "      <td>0.263158</td>\n",
       "      <td>48.262109</td>\n",
       "    </tr>\n",
       "    <tr>\n",
       "      <th rowspan=\"2\" valign=\"top\">Q</th>\n",
       "      <th>female</th>\n",
       "      <td>374.138889</td>\n",
       "      <td>0.750000</td>\n",
       "      <td>2.888889</td>\n",
       "      <td>24.291667</td>\n",
       "      <td>0.222222</td>\n",
       "      <td>0.222222</td>\n",
       "      <td>12.634958</td>\n",
       "    </tr>\n",
       "    <tr>\n",
       "      <th>male</th>\n",
       "      <td>456.317073</td>\n",
       "      <td>0.073171</td>\n",
       "      <td>2.926829</td>\n",
       "      <td>30.937500</td>\n",
       "      <td>0.609756</td>\n",
       "      <td>0.121951</td>\n",
       "      <td>13.838922</td>\n",
       "    </tr>\n",
       "    <tr>\n",
       "      <th rowspan=\"2\" valign=\"top\">S</th>\n",
       "      <th>female</th>\n",
       "      <td>438.780488</td>\n",
       "      <td>0.692683</td>\n",
       "      <td>2.185366</td>\n",
       "      <td>28.007979</td>\n",
       "      <td>0.829268</td>\n",
       "      <td>0.780488</td>\n",
       "      <td>39.143456</td>\n",
       "    </tr>\n",
       "    <tr>\n",
       "      <th>male</th>\n",
       "      <td>454.507937</td>\n",
       "      <td>0.174603</td>\n",
       "      <td>2.421769</td>\n",
       "      <td>30.291440</td>\n",
       "      <td>0.448980</td>\n",
       "      <td>0.240363</td>\n",
       "      <td>21.711996</td>\n",
       "    </tr>\n",
       "  </tbody>\n",
       "</table>\n",
       "</div>"
      ],
      "text/plain": [
       "                 PassengerId  Survived    Pclass        Age     SibSp  \\\n",
       "Embarked Sex                                                            \n",
       "C        female   437.315068  0.876712  1.726027  28.344262  0.547945   \n",
       "         male     451.536842  0.305263  2.010526  32.998841  0.263158   \n",
       "Q        female   374.138889  0.750000  2.888889  24.291667  0.222222   \n",
       "         male     456.317073  0.073171  2.926829  30.937500  0.609756   \n",
       "S        female   438.780488  0.692683  2.185366  28.007979  0.829268   \n",
       "         male     454.507937  0.174603  2.421769  30.291440  0.448980   \n",
       "\n",
       "                    Parch       Fare  \n",
       "Embarked Sex                          \n",
       "C        female  0.493151  75.169805  \n",
       "         male    0.263158  48.262109  \n",
       "Q        female  0.222222  12.634958  \n",
       "         male    0.121951  13.838922  \n",
       "S        female  0.780488  39.143456  \n",
       "         male    0.240363  21.711996  "
      ]
     },
     "execution_count": 121,
     "metadata": {},
     "output_type": "execute_result"
    }
   ],
   "source": [
    "#Taking another look at the Embarked station and Gender relationship with Pclass & Fare.\n",
    "\n",
    "titanic_df.groupby(['Embarked','Sex']).mean()"
   ]
  },
  {
   "cell_type": "markdown",
   "metadata": {},
   "source": [
    "From the above table, it appears that - "
   ]
  },
  {
   "cell_type": "markdown",
   "metadata": {},
   "source": [
    "i) Female passengers of Cherbourg having average Pclass value = 1.72  had more survivors than females passengers from other embarked station. Also, their fare price was highest among others which was 75.1. So, the rich women embraked from Cherbourg."
   ]
  },
  {
   "cell_type": "markdown",
   "metadata": {},
   "source": [
    "ii) Male Passengers of Queenstown having average Pclass value = 2.92 had less survivors than male passengers from other embarked stations. Also, their fare price was second lowest among others which was 13.83. So, the poor men embarked from Queenstown."
   ]
  },
  {
   "cell_type": "markdown",
   "metadata": {},
   "source": [
    "# Conclusion:"
   ]
  },
  {
   "cell_type": "markdown",
   "metadata": {},
   "source": [
    "Based upon the above analysis, out of factors(Age, Gender, Pclass & Embarked), Gender and Pclass were the factors that made a strong impact on the survival. Also, Embarked and Pclass seems to be related to each other in terms of the class of the passengers onboarding from a specific station. So, the passengers which are more likely to survive as per above analysis are 1st class female passengers. This analysis is tentative as we have also limitaions to this dataset."
   ]
  },
  {
   "cell_type": "markdown",
   "metadata": {},
   "source": [
    "First, the dataset is incomplete and consists of only 891 passengers as opposed to total of 2224 passenegers and crew aboard as per https://en.wikipedia.org/wiki/RMS_Titanic. We are not sure if the sample of 891 passengers is the the true representative of the population. Also, few variables had missing values and i had replaced the missing values with either mean or mode to have the same length of dataset rather than omitting the missing values. Replacing the values sometimes can mislead. Further, more data would have been helpful in finding out the patterns."
   ]
  },
  {
   "cell_type": "markdown",
   "metadata": {},
   "source": [
    "There could also be another variable which could have been used for analysis is that instead of Sibsp an Parch, we could have made a new variable 'Family' which sums up Sibsp and Parch and then we could have used family variable to see if the number of family members would have affected the survival. Would a passenger with large family aboard had a  greater survival chance as the family member could have helped each other during this disaster or would a passenger travelling alone had a greater survival chance. But as per decription info of the dataset as per Kaggle, family relations does not include each and every relation like (cousins,nephews/nieces, aunts/uncles, and in-laws) and many of the passengers and crew onboard had travelled with these kinds of relation. "
   ]
  },
  {
   "cell_type": "markdown",
   "metadata": {},
   "source": [
    "So, based upon the above limitations and factors, the aove findings are tentative in nature."
   ]
  },
  {
   "cell_type": "code",
   "execution_count": null,
   "metadata": {
    "collapsed": true
   },
   "outputs": [],
   "source": []
  }
 ],
 "metadata": {
  "anaconda-cloud": {},
  "kernelspec": {
   "display_name": "Python [conda env:DAND]",
   "language": "python",
   "name": "conda-env-DAND-py"
  },
  "language_info": {
   "codemirror_mode": {
    "name": "ipython",
    "version": 2
   },
   "file_extension": ".py",
   "mimetype": "text/x-python",
   "name": "python",
   "nbconvert_exporter": "python",
   "pygments_lexer": "ipython2",
   "version": "2.7.12"
  }
 },
 "nbformat": 4,
 "nbformat_minor": 2
}
